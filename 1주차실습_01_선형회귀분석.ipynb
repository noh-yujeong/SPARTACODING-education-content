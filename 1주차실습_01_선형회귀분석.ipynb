{
  "nbformat": 4,
  "nbformat_minor": 0,
  "metadata": {
    "colab": {
      "name": " 1주차실습-01.선형회귀분석.ipynb",
      "provenance": [],
      "authorship_tag": "ABX9TyNq/uVovN1ck12Em1iNXAHB",
      "include_colab_link": true
    },
    "kernelspec": {
      "name": "python3",
      "display_name": "Python 3"
    },
    "language_info": {
      "name": "python"
    }
  },
  "cells": [
    {
      "cell_type": "markdown",
      "metadata": {
        "id": "view-in-github",
        "colab_type": "text"
      },
      "source": [
        "<a href=\"https://colab.research.google.com/github/noh-yujeong/SPARTACODING-education-content/blob/main/1%EC%A3%BC%EC%B0%A8%EC%8B%A4%EC%8A%B5_01_%EC%84%A0%ED%98%95%ED%9A%8C%EA%B7%80%EB%B6%84%EC%84%9D.ipynb\" target=\"_parent\"><img src=\"https://colab.research.google.com/assets/colab-badge.svg\" alt=\"Open In Colab\"/></a>"
      ]
    },
    {
      "cell_type": "markdown",
      "metadata": {
        "id": "lFDc2VZyiWn7"
      },
      "source": [
        "https://colab.research.google.com/drive/1FksWe-MrejLcc4e4psqBAK9io8m3UYKo?usp=sharing\n",
        "(참고)"
      ]
    },
    {
      "cell_type": "code",
      "metadata": {
        "colab": {
          "base_uri": "https://localhost:8080/"
        },
        "id": "ruRoxH7_3ixF",
        "outputId": "d38d4682-5098-4631-a439-0088add8eed8"
      },
      "source": [
        "\n",
        "#tensorflow 임포트\n",
        "import tensorflow as tf\n",
        "#tf.compat.v1(텐설플로우의 version 1을 사용하기 위해-이런식구현only여기서만 가능)\n",
        "\n",
        "\n",
        "\n",
        "\n",
        "#1.데이터와 변수들 설정하기\n",
        "tf.compat.v1.disable_eager_execution()\n",
        "\n",
        "#1-0.입력 데이터\n",
        "x_data=[[1,1],[2,2],[3,3]]\n",
        "y_data=[[10],[20],[30]]\n",
        "###1-1 X,Y값을 넣어줄 공간 만들기\n",
        "X=tf.compat.v1.placeholder(tf.float32,shape=[None,2])#(데이터형태, 입력값모양)\n",
        "#batch size는 None, 입력값 2개씩 이라는 뜻\n",
        "#Multivariable linear regression\n",
        "Y=tf.compat.v1.placeholder(tf.float32,shape=[None,1])\n",
        "#batch size는 None, 입력값 1개\n",
        "\n",
        "\n",
        "#placeholder: placeholder를 이용하여 입력값과 설계된 수식을 완전히 분리함으로서\n",
        "#보다 간단하게 어떠한 데이터를 기계학습시키고 관리할 수 있게 됨\n",
        "###형식: a=tf.placeholder(dtype,shape,name)\n",
        "\n",
        "\n",
        "\n",
        "#1-2 Weight, biase지정하기\n",
        "###형식: b=tf.Variable(tf.random.normal(shape=(2,1),name='w'))\n",
        "#(2,1)형태의 matrix로 형성\n",
        "#초기화(initiation)\n",
        "W=tf.Variable(tf.random.normal(shape=(2,1),name='W'))\n",
        "b=tf.Variable(tf.random.normal(shape=(1,)),name='b')\n",
        "\n",
        "print(\"X is\",X)\n",
        "print(\"Y is\",Y)\n",
        "print(\"w is\",W)\n",
        "print(\"b is\",b)\n",
        "\n"
      ],
      "execution_count": null,
      "outputs": [
        {
          "output_type": "stream",
          "text": [
            "X is Tensor(\"Placeholder_4:0\", shape=(None, 2), dtype=float32)\n",
            "Y is Tensor(\"Placeholder_5:0\", shape=(None, 1), dtype=float32)\n",
            "w is <tf.Variable 'Variable_2:0' shape=(2, 1) dtype=float32>\n",
            "b is <tf.Variable 'b_2:0' shape=(1,) dtype=float32>\n"
          ],
          "name": "stdout"
        }
      ]
    },
    {
      "cell_type": "code",
      "metadata": {
        "id": "3n7zXrzi3vWc"
      },
      "source": [
        "\n",
        "#2.가설과 비용함수, optimizer를 정의함\n",
        "#matmul은 tensorflow의 행렬의 곱을 위한 함수\n",
        "###matrix mutiply\n",
        "\n",
        "#2-1.가설 정의\n",
        "hypothesis=tf.matmul(X,W)+b\n",
        "### Wx+b\n",
        "\n",
        "#2-2.비용함수 정의\n",
        "cost=tf.reduce_mean(tf.square(hypothesis-Y))\n",
        "### tf.square()은 입력값을 제곱하라\n",
        "### tf.reduce_mean은 평균을 구하라라는 뜻\n",
        "\n",
        "\n",
        "#2-3.optimizer 정의\n",
        "optimizer=tf.compat.v1.train.GradientDescentOptimizer(learning_rate=0.01).minimize(cost)\n"
      ],
      "execution_count": null,
      "outputs": []
    },
    {
      "cell_type": "code",
      "metadata": {
        "id": "LFbj_YNqjOAZ",
        "colab": {
          "base_uri": "https://localhost:8080/"
        },
        "outputId": "7292ea0c-0f50-46a3-8f75-cc40e96b9172"
      },
      "source": [
        "#3. 매 스텝별로 결과를 출력하며, 비용함수가 줄어드는 것을 확인함\n",
        "\n",
        "with tf.compat.v1.Session() as sess:\n",
        "  sess.run(tf.compat.v1.global_variables_initializer())\n",
        "\n",
        "  for step in range(50):\n",
        "    c, W_,b_, _=sess.run([cost,W,b,optimizer],feed_dict={X:x_data,Y:y_data})\n",
        "    print('Step: %2d\\t loss:%.2f\\t'%(step,c))\n",
        "  \n",
        "  print(sess.run(hypothesis,feed_dict={X:[[4,4]]}))\n"
      ],
      "execution_count": null,
      "outputs": [
        {
          "output_type": "stream",
          "text": [
            "Step:  0\t loss:511.94\t\n",
            "Step:  1\t loss:324.89\t\n",
            "Step:  2\t loss:206.38\t\n",
            "Step:  3\t loss:131.30\t\n",
            "Step:  4\t loss:83.73\t\n",
            "Step:  5\t loss:53.59\t\n",
            "Step:  6\t loss:34.49\t\n",
            "Step:  7\t loss:22.39\t\n",
            "Step:  8\t loss:14.72\t\n",
            "Step:  9\t loss:9.86\t\n",
            "Step: 10\t loss:6.78\t\n",
            "Step: 11\t loss:4.82\t\n",
            "Step: 12\t loss:3.58\t\n",
            "Step: 13\t loss:2.79\t\n",
            "Step: 14\t loss:2.29\t\n",
            "Step: 15\t loss:1.97\t\n",
            "Step: 16\t loss:1.76\t\n",
            "Step: 17\t loss:1.63\t\n",
            "Step: 18\t loss:1.54\t\n",
            "Step: 19\t loss:1.48\t\n",
            "Step: 20\t loss:1.44\t\n",
            "Step: 21\t loss:1.41\t\n",
            "Step: 22\t loss:1.39\t\n",
            "Step: 23\t loss:1.38\t\n",
            "Step: 24\t loss:1.37\t\n",
            "Step: 25\t loss:1.36\t\n",
            "Step: 26\t loss:1.35\t\n",
            "Step: 27\t loss:1.34\t\n",
            "Step: 28\t loss:1.33\t\n",
            "Step: 29\t loss:1.32\t\n",
            "Step: 30\t loss:1.32\t\n",
            "Step: 31\t loss:1.31\t\n",
            "Step: 32\t loss:1.30\t\n",
            "Step: 33\t loss:1.30\t\n",
            "Step: 34\t loss:1.29\t\n",
            "Step: 35\t loss:1.28\t\n",
            "Step: 36\t loss:1.28\t\n",
            "Step: 37\t loss:1.27\t\n",
            "Step: 38\t loss:1.26\t\n",
            "Step: 39\t loss:1.26\t\n",
            "Step: 40\t loss:1.25\t\n",
            "Step: 41\t loss:1.24\t\n",
            "Step: 42\t loss:1.24\t\n",
            "Step: 43\t loss:1.23\t\n",
            "Step: 44\t loss:1.22\t\n",
            "Step: 45\t loss:1.22\t\n",
            "Step: 46\t loss:1.21\t\n",
            "Step: 47\t loss:1.20\t\n",
            "Step: 48\t loss:1.20\t\n",
            "Step: 49\t loss:1.19\t\n",
            "[[37.873238]]\n"
          ],
          "name": "stdout"
        }
      ]
    },
    {
      "cell_type": "markdown",
      "metadata": {
        "id": "CD5GYRdcukQZ"
      },
      "source": [
        "* 실제로는 이렇게 keras를 이용해 쉽게 선형회귀를 실행해볼 수 있습니다!\n"
      ]
    },
    {
      "cell_type": "code",
      "metadata": {
        "colab": {
          "base_uri": "https://localhost:8080/"
        },
        "id": "7cv_9odPugxw",
        "outputId": "23d0bf9e-1967-438f-9e7c-889acb1c8d50"
      },
      "source": [
        "import numpy as np\n",
        "from tensorflow.keras.models import Sequential\n",
        "from tensorflow.keras.layers import Dense\n",
        "from tensorflow.keras.optimizers import Adam, SGD\n",
        "\n",
        "x_data=np.array([[1],[2],[3]])\n",
        "y_data=np.array([[10],[20],[30]])\n",
        "\n",
        "model=Sequential([\n",
        "                  Dense(1)\n",
        "])\n",
        "\n",
        "model.compile(loss='mean_squared_error',optimizer=SGD(lr=0.1))\n",
        "model.fit(x_data,y_data,epochs=100)#epochs 복수형으로 쓰기\n"
      ],
      "execution_count": null,
      "outputs": [
        {
          "output_type": "stream",
          "text": [
            "/usr/local/lib/python3.7/dist-packages/tensorflow/python/keras/optimizer_v2/optimizer_v2.py:375: UserWarning: The `lr` argument is deprecated, use `learning_rate` instead.\n",
            "  \"The `lr` argument is deprecated, use `learning_rate` instead.\")\n"
          ],
          "name": "stderr"
        },
        {
          "output_type": "stream",
          "text": [
            "Train on 3 samples\n",
            "Epoch 1/100\n",
            "3/3 [==============================] - 0s 77ms/sample - loss: 554.3093\n",
            "Epoch 2/100\n",
            "3/3 [==============================] - 0s 2ms/sample - loss: 8.7986\n",
            "Epoch 3/100\n",
            "3/3 [==============================] - 0s 2ms/sample - loss: 2.1789\n",
            "Epoch 4/100\n",
            "3/3 [==============================] - 0s 2ms/sample - loss: 2.0013\n",
            "Epoch 5/100\n",
            "3/3 [==============================] - 0s 3ms/sample - loss: 1.9054\n",
            "Epoch 6/100\n",
            "3/3 [==============================] - 0s 3ms/sample - loss: 1.8149\n",
            "Epoch 7/100\n",
            "3/3 [==============================] - 0s 2ms/sample - loss: 1.7287\n",
            "Epoch 8/100\n",
            "3/3 [==============================] - 0s 5ms/sample - loss: 1.6465\n",
            "Epoch 9/100\n",
            "3/3 [==============================] - 0s 1ms/sample - loss: 1.5683\n",
            "Epoch 10/100\n",
            "3/3 [==============================] - 0s 2ms/sample - loss: 1.4938\n",
            "Epoch 11/100\n",
            "3/3 [==============================] - 0s 1ms/sample - loss: 1.4229\n",
            "Epoch 12/100\n",
            "3/3 [==============================] - 0s 2ms/sample - loss: 1.3553\n",
            "Epoch 13/100\n",
            "3/3 [==============================] - 0s 1ms/sample - loss: 1.2909\n",
            "Epoch 14/100\n",
            "3/3 [==============================] - 0s 1ms/sample - loss: 1.2296\n",
            "Epoch 15/100\n",
            "3/3 [==============================] - 0s 1ms/sample - loss: 1.1712\n",
            "Epoch 16/100\n",
            "3/3 [==============================] - 0s 1ms/sample - loss: 1.1156\n",
            "Epoch 17/100\n",
            "3/3 [==============================] - 0s 1ms/sample - loss: 1.0626\n",
            "Epoch 18/100\n",
            "3/3 [==============================] - 0s 1ms/sample - loss: 1.0121\n",
            "Epoch 19/100\n",
            "3/3 [==============================] - 0s 1ms/sample - loss: 0.9640\n",
            "Epoch 20/100\n",
            "3/3 [==============================] - 0s 1ms/sample - loss: 0.9182\n",
            "Epoch 21/100\n",
            "3/3 [==============================] - 0s 1ms/sample - loss: 0.8746\n",
            "Epoch 22/100\n",
            "3/3 [==============================] - 0s 1ms/sample - loss: 0.8331\n",
            "Epoch 23/100\n",
            "3/3 [==============================] - 0s 1ms/sample - loss: 0.7935\n",
            "Epoch 24/100\n",
            "3/3 [==============================] - 0s 1ms/sample - loss: 0.7558\n",
            "Epoch 25/100\n",
            "3/3 [==============================] - 0s 1ms/sample - loss: 0.7199\n",
            "Epoch 26/100\n",
            "3/3 [==============================] - 0s 1ms/sample - loss: 0.6857\n",
            "Epoch 27/100\n",
            "3/3 [==============================] - 0s 1ms/sample - loss: 0.6531\n",
            "Epoch 28/100\n",
            "3/3 [==============================] - 0s 1ms/sample - loss: 0.6221\n",
            "Epoch 29/100\n",
            "3/3 [==============================] - 0s 2ms/sample - loss: 0.5926\n",
            "Epoch 30/100\n",
            "3/3 [==============================] - 0s 1ms/sample - loss: 0.5644\n",
            "Epoch 31/100\n",
            "3/3 [==============================] - 0s 1ms/sample - loss: 0.5376\n",
            "Epoch 32/100\n",
            "3/3 [==============================] - 0s 2ms/sample - loss: 0.5121\n",
            "Epoch 33/100\n",
            "3/3 [==============================] - 0s 1ms/sample - loss: 0.4877\n",
            "Epoch 34/100\n",
            "3/3 [==============================] - 0s 1ms/sample - loss: 0.4646\n",
            "Epoch 35/100\n",
            "3/3 [==============================] - 0s 1ms/sample - loss: 0.4425\n",
            "Epoch 36/100\n",
            "3/3 [==============================] - 0s 1ms/sample - loss: 0.4215\n",
            "Epoch 37/100\n",
            "3/3 [==============================] - 0s 1ms/sample - loss: 0.4015\n",
            "Epoch 38/100\n",
            "3/3 [==============================] - 0s 1ms/sample - loss: 0.3824\n",
            "Epoch 39/100\n",
            "3/3 [==============================] - 0s 1ms/sample - loss: 0.3642\n",
            "Epoch 40/100\n",
            "3/3 [==============================] - 0s 1ms/sample - loss: 0.3469\n",
            "Epoch 41/100\n",
            "3/3 [==============================] - 0s 1ms/sample - loss: 0.3305\n",
            "Epoch 42/100\n",
            "3/3 [==============================] - 0s 1ms/sample - loss: 0.3148\n",
            "Epoch 43/100\n",
            "3/3 [==============================] - 0s 1ms/sample - loss: 0.2998\n",
            "Epoch 44/100\n",
            "3/3 [==============================] - 0s 1ms/sample - loss: 0.2856\n",
            "Epoch 45/100\n",
            "3/3 [==============================] - 0s 1ms/sample - loss: 0.2720\n",
            "Epoch 46/100\n",
            "3/3 [==============================] - 0s 1ms/sample - loss: 0.2591\n",
            "Epoch 47/100\n",
            "3/3 [==============================] - 0s 1ms/sample - loss: 0.2468\n",
            "Epoch 48/100\n",
            "3/3 [==============================] - 0s 2ms/sample - loss: 0.2350\n",
            "Epoch 49/100\n",
            "3/3 [==============================] - 0s 1ms/sample - loss: 0.2239\n",
            "Epoch 50/100\n",
            "3/3 [==============================] - 0s 1ms/sample - loss: 0.2132\n",
            "Epoch 51/100\n",
            "3/3 [==============================] - 0s 1ms/sample - loss: 0.2031\n",
            "Epoch 52/100\n",
            "3/3 [==============================] - 0s 1ms/sample - loss: 0.1935\n",
            "Epoch 53/100\n",
            "3/3 [==============================] - 0s 1ms/sample - loss: 0.1843\n",
            "Epoch 54/100\n",
            "3/3 [==============================] - 0s 2ms/sample - loss: 0.1755\n",
            "Epoch 55/100\n",
            "3/3 [==============================] - 0s 1ms/sample - loss: 0.1672\n",
            "Epoch 56/100\n",
            "3/3 [==============================] - 0s 1ms/sample - loss: 0.1592\n",
            "Epoch 57/100\n",
            "3/3 [==============================] - 0s 1ms/sample - loss: 0.1517\n",
            "Epoch 58/100\n",
            "3/3 [==============================] - 0s 1ms/sample - loss: 0.1445\n",
            "Epoch 59/100\n",
            "3/3 [==============================] - 0s 1ms/sample - loss: 0.1376\n",
            "Epoch 60/100\n",
            "3/3 [==============================] - 0s 1ms/sample - loss: 0.1311\n",
            "Epoch 61/100\n",
            "3/3 [==============================] - 0s 1ms/sample - loss: 0.1249\n",
            "Epoch 62/100\n",
            "3/3 [==============================] - 0s 1ms/sample - loss: 0.1189\n",
            "Epoch 63/100\n",
            "3/3 [==============================] - 0s 1ms/sample - loss: 0.1133\n",
            "Epoch 64/100\n",
            "3/3 [==============================] - 0s 1ms/sample - loss: 0.1079\n",
            "Epoch 65/100\n",
            "3/3 [==============================] - 0s 1ms/sample - loss: 0.1028\n",
            "Epoch 66/100\n",
            "3/3 [==============================] - 0s 1ms/sample - loss: 0.0979\n",
            "Epoch 67/100\n",
            "3/3 [==============================] - 0s 1ms/sample - loss: 0.0932\n",
            "Epoch 68/100\n",
            "3/3 [==============================] - 0s 1ms/sample - loss: 0.0888\n",
            "Epoch 69/100\n",
            "3/3 [==============================] - 0s 1ms/sample - loss: 0.0846\n",
            "Epoch 70/100\n",
            "3/3 [==============================] - 0s 1ms/sample - loss: 0.0806\n",
            "Epoch 71/100\n",
            "3/3 [==============================] - 0s 1ms/sample - loss: 0.0767\n",
            "Epoch 72/100\n",
            "3/3 [==============================] - 0s 1ms/sample - loss: 0.0731\n",
            "Epoch 73/100\n",
            "3/3 [==============================] - 0s 1ms/sample - loss: 0.0696\n",
            "Epoch 74/100\n",
            "3/3 [==============================] - 0s 1ms/sample - loss: 0.0663\n",
            "Epoch 75/100\n",
            "3/3 [==============================] - 0s 1ms/sample - loss: 0.0632\n",
            "Epoch 76/100\n",
            "3/3 [==============================] - 0s 1ms/sample - loss: 0.0602\n",
            "Epoch 77/100\n",
            "3/3 [==============================] - 0s 1ms/sample - loss: 0.0573\n",
            "Epoch 78/100\n",
            "3/3 [==============================] - 0s 2ms/sample - loss: 0.0546\n",
            "Epoch 79/100\n",
            "3/3 [==============================] - 0s 2ms/sample - loss: 0.0520\n",
            "Epoch 80/100\n",
            "3/3 [==============================] - 0s 1ms/sample - loss: 0.0495\n",
            "Epoch 81/100\n",
            "3/3 [==============================] - 0s 1ms/sample - loss: 0.0472\n",
            "Epoch 82/100\n",
            "3/3 [==============================] - 0s 1ms/sample - loss: 0.0449\n",
            "Epoch 83/100\n",
            "3/3 [==============================] - 0s 1ms/sample - loss: 0.0428\n",
            "Epoch 84/100\n",
            "3/3 [==============================] - 0s 1ms/sample - loss: 0.0408\n",
            "Epoch 85/100\n",
            "3/3 [==============================] - 0s 1ms/sample - loss: 0.0388\n",
            "Epoch 86/100\n",
            "3/3 [==============================] - 0s 1ms/sample - loss: 0.0370\n",
            "Epoch 87/100\n",
            "3/3 [==============================] - 0s 1ms/sample - loss: 0.0352\n",
            "Epoch 88/100\n",
            "3/3 [==============================] - 0s 1ms/sample - loss: 0.0336\n",
            "Epoch 89/100\n",
            "3/3 [==============================] - 0s 1ms/sample - loss: 0.0320\n",
            "Epoch 90/100\n",
            "3/3 [==============================] - 0s 1ms/sample - loss: 0.0304\n",
            "Epoch 91/100\n",
            "3/3 [==============================] - 0s 1ms/sample - loss: 0.0290\n",
            "Epoch 92/100\n",
            "3/3 [==============================] - 0s 1ms/sample - loss: 0.0276\n",
            "Epoch 93/100\n",
            "3/3 [==============================] - 0s 1ms/sample - loss: 0.0263\n",
            "Epoch 94/100\n",
            "3/3 [==============================] - 0s 1ms/sample - loss: 0.0251\n",
            "Epoch 95/100\n",
            "3/3 [==============================] - 0s 1ms/sample - loss: 0.0239\n",
            "Epoch 96/100\n",
            "3/3 [==============================] - 0s 1ms/sample - loss: 0.0227\n",
            "Epoch 97/100\n",
            "3/3 [==============================] - 0s 1ms/sample - loss: 0.0217\n",
            "Epoch 98/100\n",
            "3/3 [==============================] - 0s 1ms/sample - loss: 0.0206\n",
            "Epoch 99/100\n",
            "3/3 [==============================] - 0s 1ms/sample - loss: 0.0196\n",
            "Epoch 100/100\n",
            "3/3 [==============================] - 0s 1ms/sample - loss: 0.0187\n"
          ],
          "name": "stdout"
        },
        {
          "output_type": "execute_result",
          "data": {
            "text/plain": [
              "<tensorflow.python.keras.callbacks.History at 0x7f272311cc50>"
            ]
          },
          "metadata": {
            "tags": []
          },
          "execution_count": 11
        }
      ]
    },
    {
      "cell_type": "code",
      "metadata": {
        "colab": {
          "base_uri": "https://localhost:8080/"
        },
        "id": "x2RqkrMH3GLs",
        "outputId": "4ad39c6f-e8d1-471e-86e5-69d987e4ce98"
      },
      "source": [
        "#테스트 데이터 예측하기\n",
        "\n",
        "y_pred=model.predict([[4]])\n",
        "print(y_pred)\n",
        "\n",
        "\n",
        "\n",
        "y_pred=model.predict([[5]])\n",
        "print(y_pred)"
      ],
      "execution_count": null,
      "outputs": [
        {
          "output_type": "stream",
          "text": [
            "[[39.732254]]\n",
            "[[49.577198]]\n"
          ],
          "name": "stdout"
        }
      ]
    }
  ]
}