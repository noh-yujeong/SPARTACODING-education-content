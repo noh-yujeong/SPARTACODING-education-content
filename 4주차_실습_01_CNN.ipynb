{
  "nbformat": 4,
  "nbformat_minor": 0,
  "metadata": {
    "colab": {
      "name": "4주차_실습_01_CNN.ipynb",
      "provenance": [],
      "authorship_tag": "ABX9TyPa6q1FkCHmb+EHGWavHQ3Y",
      "include_colab_link": true
    },
    "kernelspec": {
      "name": "python3",
      "display_name": "Python 3"
    },
    "language_info": {
      "name": "python"
    },
    "accelerator": "GPU"
  },
  "cells": [
    {
      "cell_type": "markdown",
      "metadata": {
        "id": "view-in-github",
        "colab_type": "text"
      },
      "source": [
        "<a href=\"https://colab.research.google.com/github/noh-yujeong/SPARTACODING_education_content/blob/main/4%EC%A3%BC%EC%B0%A8_%EC%8B%A4%EC%8A%B5_01_CNN.ipynb\" target=\"_parent\"><img src=\"https://colab.research.google.com/assets/colab-badge.svg\" alt=\"Open In Colab\"/></a>"
      ]
    },
    {
      "cell_type": "code",
      "metadata": {
        "id": "Uybyp1G2Wr7p"
      },
      "source": [
        "import os\n",
        "os.environ['KAGGLE_USERNAME']='yujeongnoh'\n",
        "os.environ['KAGGLE_KEY']='f1f98ae96b1b8d5a2f0bcee2be4fd59e'"
      ],
      "execution_count": null,
      "outputs": []
    },
    {
      "cell_type": "code",
      "metadata": {
        "colab": {
          "base_uri": "https://localhost:8080/"
        },
        "id": "TXw-jvj7YKpX",
        "outputId": "2b2119a9-71a7-4b24-ef42-bca8ed402286"
      },
      "source": [
        "#0. 데이터 셋 다운로드하기\n",
        "\n",
        "!kaggle datasets download -d datamunge/sign-language-mnist\n",
        "!unzip sign-language-mnist.zip"
      ],
      "execution_count": null,
      "outputs": [
        {
          "output_type": "stream",
          "text": [
            "sign-language-mnist.zip: Skipping, found more recently modified local copy (use --force to force download)\n",
            "Archive:  sign-language-mnist.zip\n",
            "  inflating: amer_sign2.png          \n",
            "  inflating: amer_sign3.png          \n",
            "  inflating: american_sign_language.PNG  \n",
            "  inflating: sign_mnist_test.csv     \n",
            "  inflating: sign_mnist_test/sign_mnist_test.csv  \n",
            "  inflating: sign_mnist_train.csv    \n",
            "  inflating: sign_mnist_train/sign_mnist_train.csv  \n"
          ],
          "name": "stdout"
        }
      ]
    },
    {
      "cell_type": "code",
      "metadata": {
        "id": "ZwC5RRHDYbWc"
      },
      "source": [
        "#1. 필요한 package importing하기\n",
        "from tensorflow.keras.models import Model\n",
        "from tensorflow.keras.layers import Input,Dense,Conv2D, MaxPooling2D,Flatten,Dropout\n",
        "from tensorflow.keras.optimizers import Adam, SGD\n",
        "from tensorflow.keras.preprocessing.image import ImageDataGenerator\n",
        "\n",
        "import numpy as np\n",
        "import pandas as pd\n",
        "import matplotlib.pyplot as plt\n",
        "import seaborn as sns\n",
        "from sklearn.model_selection import train_test_split\n",
        "from sklearn.preprocessing import StandardScaler\n",
        "from sklearn.preprocessing import OneHotEncoder"
      ],
      "execution_count": null,
      "outputs": []
    },
    {
      "cell_type": "code",
      "metadata": {
        "id": "zIl8X2ZZbXIa"
      },
      "source": [
        "#2. 데이터 셋 loading 하기\n",
        "train_df=pd.read_csv('sign_mnist_train.csv')\n",
        "test_df=pd.read_csv('sign_mnist_test.csv')\n"
      ],
      "execution_count": null,
      "outputs": []
    },
    {
      "cell_type": "code",
      "metadata": {
        "colab": {
          "base_uri": "https://localhost:8080/",
          "height": 661
        },
        "id": "1Ss9vN3lbmNu",
        "outputId": "1ca16d68-3a98-4814-f655-ddd5c8b10154"
      },
      "source": [
        "#3. label 분포 확인하기\n",
        "plt.figure(figsize=(16,10))\n",
        "sns.countplot(train_df['label'])\n",
        "plt.show()"
      ],
      "execution_count": null,
      "outputs": [
        {
          "output_type": "stream",
          "text": [
            "/usr/local/lib/python3.7/dist-packages/seaborn/_decorators.py:43: FutureWarning: Pass the following variable as a keyword arg: x. From version 0.12, the only valid positional argument will be `data`, and passing other arguments without an explicit keyword will result in an error or misinterpretation.\n",
            "  FutureWarning\n"
          ],
          "name": "stderr"
        },
        {
          "output_type": "display_data",
          "data": {
            "image/png": "[encoded data removed]",
            "text/plain": [
              "<Figure size 1152x720 with 1 Axes>"
            ]
          },
          "metadata": {
            "tags": [],
            "needs_background": "light"
          }
        }
      ]
    },
    {
      "cell_type": "code",
      "metadata": {
        "id": "wnwxaR5mdQ8n"
      },
      "source": [
        "#4. 전처리\n",
        "###4-1.입력(input)과 출력(output)나누기\n",
        "\n",
        "train_df= train_df.astype(np.float32)\n",
        "\n",
        "x_train= train_df.drop(columns=['label'],axis=1).values\n",
        "x_train= x_train.reshape((-1,28,28,1))\n",
        "y_train= train_df[['label']].values\n",
        "\n",
        "test_df=test_df.astype(np.float32)\n",
        "x_test=test_df.drop(columns=['label'],axis=1).values\n",
        "x_test=x_test.reshape((-1,28,28,1))\n",
        "y_test=test_df[['label']].values"
      ],
      "execution_count": null,
      "outputs": []
    },
    {
      "cell_type": "code",
      "metadata": {
        "colab": {
          "base_uri": "https://localhost:8080/",
          "height": 281
        },
        "id": "AN02CcM_ehAj",
        "outputId": "cc7fec1e-047b-4e3c-e426-cede3bb1984a"
      },
      "source": [
        "###4-2. 데이터 미리보기\n",
        "index=1\n",
        "plt.title(str(y_train[index]))\n",
        "plt.imshow(x_train[index].reshape((28,28)),cmap='gray')\n",
        "plt.show()"
      ],
      "execution_count": null,
      "outputs": [
        {
          "output_type": "display_data",
          "data": {
            "image/png": "[encoded data removed]",
            "text/plain": [
              "<Figure size 432x288 with 1 Axes>"
            ]
          },
          "metadata": {
            "tags": [],
            "needs_background": "light"
          }
        }
      ]
    },
    {
      "cell_type": "code",
      "metadata": {
        "id": "j1F_nFJVeXaf"
      },
      "source": [
        "#5. 원핫인코딩\n",
        "\n",
        "encoder=OneHotEncoder()\n",
        "y_train=encoder.fit_transform(y_train).toarray()\n",
        "y_test=encoder.fit_transform(y_test).toarray()\n"
      ],
      "execution_count": null,
      "outputs": []
    },
    {
      "cell_type": "code",
      "metadata": {
        "colab": {
          "base_uri": "https://localhost:8080/",
          "height": 281
        },
        "id": "AB1JyYuZfA66",
        "outputId": "477bb501-de2c-46d4-8a62-d395094c0ebe"
      },
      "source": [
        "#6. 일반화하기\n",
        "train_image_datagen=ImageDataGenerator(\n",
        "    rescale=1./255. #일반화\n",
        ")\n",
        "\n",
        "train_datagen=train_image_datagen.flow(\n",
        "    x=x_train,\n",
        "    y=y_train,\n",
        "    batch_size=256,\n",
        "    shuffle=True\n",
        ")\n",
        "\n",
        "test_image_datagen=ImageDataGenerator(\n",
        "    rescale=1./255.\n",
        ")\n",
        "\n",
        "test_datagen=test_image_datagen.flow(\n",
        "    x=x_test,\n",
        "    y=y_test,\n",
        "    batch_size=256,\n",
        "    shuffle=False\n",
        ")\n",
        "\n",
        "index=1\n",
        "\n",
        "preview_img=train_datagen.__getitem__(0)[0][index]\n",
        "preview_label=train_datagen.__getitem__(0)[1][index]\n",
        "\n",
        "plt.imshow(preview_img.reshape((28,28)))\n",
        "plt.title(str(preview_label))\n",
        "plt.show()"
      ],
      "execution_count": null,
      "outputs": [
        {
          "output_type": "display_data",
          "data": {
            "image/png": "[encoded data removed]",
            "text/plain": [
              "<Figure size 432x288 with 1 Axes>"
            ]
          },
          "metadata": {
            "tags": [],
            "needs_background": "light"
          }
        }
      ]
    },
    {
      "cell_type": "code",
      "metadata": {
        "id": "lZ5fOi0pe_Zm",
        "colab": {
          "base_uri": "https://localhost:8080/"
        },
        "outputId": "a5fd9b57-6b0f-48da-c50d-7a4a3b390199"
      },
      "source": [
        "#7. network 구성하기\n",
        "input=Input(shape=(28,28,1))\n",
        "\n",
        "hidden=Conv2D(filters=32,kernel_size=3,strides=1,padding='same',activation='relu')(input)\n",
        "hidden=MaxPooling2D(pool_size=2,strides=2)(hidden)\n",
        "\n",
        "hidden=Conv2D(filters=64,kernel_size=3,strides=1,padding='same',activation='relu')(hidden)\n",
        "hidden=MaxPooling2D(pool_size=2,strides=2)(hidden)\n",
        "\n",
        "hidden=Conv2D(filters=32,kernel_size=3,strides=1,padding='same',activation='relu')(hidden)\n",
        "hidden=MaxPooling2D(pool_size=2,strides=2)(hidden)\n",
        "\n",
        "hidden=Flatten()(hidden)\n",
        "hidden=Dropout(rate=0.3)(hidden)\n",
        "output=Dense(24,activation='softmax')(hidden)\n",
        "model=Model(inputs=input,outputs=output)\n",
        "model.compile(loss='categorical_crossentropy',optimizer=Adam(lr=0.001),metrics=['acc'])\n"
      ],
      "execution_count": 17,
      "outputs": [
        {
          "output_type": "stream",
          "text": [
            "/usr/local/lib/python3.7/dist-packages/tensorflow/python/keras/optimizer_v2/optimizer_v2.py:375: UserWarning: The `lr` argument is deprecated, use `learning_rate` instead.\n",
            "  \"The `lr` argument is deprecated, use `learning_rate` instead.\")\n"
          ],
          "name": "stderr"
        }
      ]
    },
    {
      "cell_type": "code",
      "metadata": {
        "id": "6Kudp3rtfCt7",
        "colab": {
          "base_uri": "https://localhost:8080/"
        },
        "outputId": "5064bbc1-ba77-44e7-d3e5-5b9597594f76"
      },
      "source": [
        "#8. 모델 학습\n",
        "history=model.fit(\n",
        "    train_datagen,\n",
        "    validation_data=test_datagen,\n",
        "    epochs=20\n",
        ")"
      ],
      "execution_count": 18,
      "outputs": [
        {
          "output_type": "stream",
          "text": [
            "Epoch 1/20\n",
            "108/108 [==============================] - 33s 15ms/step - loss: 2.6603 - acc: 0.2173 - val_loss: 1.5460 - val_acc: 0.5417\n",
            "Epoch 2/20\n",
            "108/108 [==============================] - 1s 12ms/step - loss: 1.0382 - acc: 0.6622 - val_loss: 0.6759 - val_acc: 0.7775\n",
            "Epoch 3/20\n",
            "108/108 [==============================] - 1s 12ms/step - loss: 0.5533 - acc: 0.8139 - val_loss: 0.4377 - val_acc: 0.8416\n",
            "Epoch 4/20\n",
            "108/108 [==============================] - 1s 12ms/step - loss: 0.3739 - acc: 0.8761 - val_loss: 0.3294 - val_acc: 0.8992\n",
            "Epoch 5/20\n",
            "108/108 [==============================] - 1s 12ms/step - loss: 0.2668 - acc: 0.9128 - val_loss: 0.2890 - val_acc: 0.8967\n",
            "Epoch 6/20\n",
            "108/108 [==============================] - 1s 12ms/step - loss: 0.2055 - acc: 0.9343 - val_loss: 0.2340 - val_acc: 0.9255\n",
            "Epoch 7/20\n",
            "108/108 [==============================] - 1s 12ms/step - loss: 0.1604 - acc: 0.9478 - val_loss: 0.2242 - val_acc: 0.9239\n",
            "Epoch 8/20\n",
            "108/108 [==============================] - 1s 12ms/step - loss: 0.1296 - acc: 0.9593 - val_loss: 0.1938 - val_acc: 0.9388\n",
            "Epoch 9/20\n",
            "108/108 [==============================] - 1s 12ms/step - loss: 0.1081 - acc: 0.9653 - val_loss: 0.1886 - val_acc: 0.9492\n",
            "Epoch 10/20\n",
            "108/108 [==============================] - 1s 12ms/step - loss: 0.0965 - acc: 0.9708 - val_loss: 0.1851 - val_acc: 0.9444\n",
            "Epoch 11/20\n",
            "108/108 [==============================] - 1s 12ms/step - loss: 0.0846 - acc: 0.9737 - val_loss: 0.2026 - val_acc: 0.9389\n",
            "Epoch 12/20\n",
            "108/108 [==============================] - 1s 12ms/step - loss: 0.0689 - acc: 0.9798 - val_loss: 0.1741 - val_acc: 0.9582\n",
            "Epoch 13/20\n",
            "108/108 [==============================] - 1s 12ms/step - loss: 0.0606 - acc: 0.9811 - val_loss: 0.1552 - val_acc: 0.9583\n",
            "Epoch 14/20\n",
            "108/108 [==============================] - 1s 12ms/step - loss: 0.0520 - acc: 0.9851 - val_loss: 0.1823 - val_acc: 0.9525\n",
            "Epoch 15/20\n",
            "108/108 [==============================] - 1s 12ms/step - loss: 0.0489 - acc: 0.9856 - val_loss: 0.2062 - val_acc: 0.9456\n",
            "Epoch 16/20\n",
            "108/108 [==============================] - 1s 12ms/step - loss: 0.0442 - acc: 0.9877 - val_loss: 0.1763 - val_acc: 0.9582\n",
            "Epoch 17/20\n",
            "108/108 [==============================] - 1s 12ms/step - loss: 0.0412 - acc: 0.9881 - val_loss: 0.1817 - val_acc: 0.9579\n",
            "Epoch 18/20\n",
            "108/108 [==============================] - 1s 12ms/step - loss: 0.0390 - acc: 0.9882 - val_loss: 0.1796 - val_acc: 0.9571\n",
            "Epoch 19/20\n",
            "108/108 [==============================] - 1s 12ms/step - loss: 0.0335 - acc: 0.9893 - val_loss: 0.1965 - val_acc: 0.9551\n",
            "Epoch 20/20\n",
            "108/108 [==============================] - 1s 11ms/step - loss: 0.0314 - acc: 0.9908 - val_loss: 0.1735 - val_acc: 0.9611\n"
          ],
          "name": "stdout"
        }
      ]
    },
    {
      "cell_type": "code",
      "metadata": {
        "id": "bXV8WbfbfGEE"
      },
      "source": [
        "\"\"\"\n",
        "이미지 증강기법 이용해보기\n",
        "\"\"\"\n",
        "#1. train data 증강하기\n",
        "\n",
        "train_imagwe_datagen=ImageDataGenerator(\n",
        "    rescale=1./255,\n",
        "    rotation_range=10,\n",
        "    zoom_range=0.1,\n",
        "    width_shift_range=0.1,\n",
        "    height_shift_range=0.1,\n",
        ")\n",
        "\n",
        "train_datagen=train_image_datagen.flow(\n",
        "    x=x_train,\n",
        "    y=y_train,\n",
        "    batch_size=256,\n",
        "    shuffle=True\n",
        ")"
      ],
      "execution_count": 21,
      "outputs": []
    },
    {
      "cell_type": "code",
      "metadata": {
        "id": "Og_2W5VBfGNL"
      },
      "source": [
        "#2. validation data 일반화하기\n",
        "\n",
        "test_image_datagen=ImageDataGenerator(\n",
        "    rescale=1./255\n",
        ")\n",
        "\n",
        "test_datagen=test_image_datagen.flow(\n",
        "    x=x_test,\n",
        "    y=y_test,\n",
        "    batch_size=256,\n",
        "    shuffle=False\n",
        ")"
      ],
      "execution_count": 22,
      "outputs": []
    },
    {
      "cell_type": "code",
      "metadata": {
        "id": "d2F_OCzSfGWz",
        "colab": {
          "base_uri": "https://localhost:8080/",
          "height": 281
        },
        "outputId": "c3a9fde2-e6c6-4619-c7c8-34afa97dacf6"
      },
      "source": [
        "#3. 이미지 확인하기\n",
        "index=1\n",
        "\n",
        "preview_img=train_datagen.__getitem__(0)[0][index]\n",
        "preview_label=train_datagen.__getitem__(0)[1][index]\n",
        "\n",
        "plt.imshow(preview_img.reshape((28,28)))\n",
        "plt.title(str(preview_label))\n",
        "plt.show()"
      ],
      "execution_count": 23,
      "outputs": [
        {
          "output_type": "display_data",
          "data": {
            "image/png": "[encoded data removed]",
            "text/plain": [
              "<Figure size 432x288 with 1 Axes>"
            ]
          },
          "metadata": {
            "tags": [],
            "needs_background": "light"
          }
        }
      ]
    },
    {
      "cell_type": "code",
      "metadata": {
        "id": "1ZWvcHzRfGkt",
        "colab": {
          "base_uri": "https://localhost:8080/"
        },
        "outputId": "1a76333c-8929-4669-a299-273cce77f2bb"
      },
      "source": [
        "#4. network 구성하기\n",
        "\n",
        "input=Input(shape=(28,28,1))\n",
        "\n",
        "hidden=Conv2D(filters=32,kernel_size=3,strides=1,padding='same',activation='relu')(input)\n",
        "hidden=MaxPooling2D(pool_size=2,strides=2)(hidden)\n",
        "\n",
        "hidden=Conv2D(filters=64,kernel_size=3,strides=1,padding='same',activation='relu')(hidden)\n",
        "hidden=MaxPooling2D(pool_size=2,strides=2)(hidden)\n",
        "\n",
        "hidden=Conv2D(filters=32,kernel_size=3,strides=1,padding='same',activation='relu')(hidden)\n",
        "hidden=MaxPooling2D(pool_size=2,strides=2)(hidden)\n",
        "\n",
        "hidden=Flatten()(hidden)\n",
        "\n",
        "hidden=Dense(512,activation='relu')(hidden)\n",
        "hidden=Dropout(rate=0.3)(hidden)\n",
        "\n",
        "output=Dense(24,activation='softmax')(hidden)\n",
        "\n",
        "model=Model(inputs=input,outputs=output)\n",
        "model.compile(loss='categorical_crossentropy',optimizer=Adam(lr=0.001),metrics=['acc'])\n",
        "model.summary()"
      ],
      "execution_count": 24,
      "outputs": [
        {
          "output_type": "stream",
          "text": [
            "Model: \"model_1\"\n",
            "_________________________________________________________________\n",
            "Layer (type)                 Output Shape              Param #   \n",
            "=================================================================\n",
            "input_2 (InputLayer)         [(None, 28, 28, 1)]       0         \n",
            "_________________________________________________________________\n",
            "conv2d_3 (Conv2D)            (None, 28, 28, 32)        320       \n",
            "_________________________________________________________________\n",
            "max_pooling2d_3 (MaxPooling2 (None, 14, 14, 32)        0         \n",
            "_________________________________________________________________\n",
            "conv2d_4 (Conv2D)            (None, 14, 14, 64)        18496     \n",
            "_________________________________________________________________\n",
            "max_pooling2d_4 (MaxPooling2 (None, 7, 7, 64)          0         \n",
            "_________________________________________________________________\n",
            "conv2d_5 (Conv2D)            (None, 7, 7, 32)          18464     \n",
            "_________________________________________________________________\n",
            "max_pooling2d_5 (MaxPooling2 (None, 3, 3, 32)          0         \n",
            "_________________________________________________________________\n",
            "flatten_1 (Flatten)          (None, 288)               0         \n",
            "_________________________________________________________________\n",
            "dense_1 (Dense)              (None, 512)               147968    \n",
            "_________________________________________________________________\n",
            "dropout_1 (Dropout)          (None, 512)               0         \n",
            "_________________________________________________________________\n",
            "dense_2 (Dense)              (None, 24)                12312     \n",
            "=================================================================\n",
            "Total params: 197,560\n",
            "Trainable params: 197,560\n",
            "Non-trainable params: 0\n",
            "_________________________________________________________________\n"
          ],
          "name": "stdout"
        },
        {
          "output_type": "stream",
          "text": [
            "/usr/local/lib/python3.7/dist-packages/tensorflow/python/keras/optimizer_v2/optimizer_v2.py:375: UserWarning: The `lr` argument is deprecated, use `learning_rate` instead.\n",
            "  \"The `lr` argument is deprecated, use `learning_rate` instead.\")\n"
          ],
          "name": "stderr"
        }
      ]
    },
    {
      "cell_type": "code",
      "metadata": {
        "colab": {
          "base_uri": "https://localhost:8080/"
        },
        "id": "HmbkVEYImJWt",
        "outputId": "a28c755b-59fe-4b43-ffe2-fc6cc79c86a6"
      },
      "source": [
        "#5. 모델 학습시키기\n",
        "history=model.fit(\n",
        "    train_datagen,\n",
        "    validation_data=test_datagen,\n",
        "    epochs=20\n",
        ")"
      ],
      "execution_count": 25,
      "outputs": [
        {
          "output_type": "stream",
          "text": [
            "Epoch 1/20\n",
            "108/108 [==============================] - 2s 14ms/step - loss: 2.0746 - acc: 0.3726 - val_loss: 0.9384 - val_acc: 0.7054\n",
            "Epoch 2/20\n",
            "108/108 [==============================] - 1s 12ms/step - loss: 0.5231 - acc: 0.8267 - val_loss: 0.4049 - val_acc: 0.8772\n",
            "Epoch 3/20\n",
            "108/108 [==============================] - 1s 13ms/step - loss: 0.1787 - acc: 0.9456 - val_loss: 0.2471 - val_acc: 0.9329\n",
            "Epoch 4/20\n",
            "108/108 [==============================] - 1s 12ms/step - loss: 0.0775 - acc: 0.9783 - val_loss: 0.1932 - val_acc: 0.9360\n",
            "Epoch 5/20\n",
            "108/108 [==============================] - 1s 12ms/step - loss: 0.0384 - acc: 0.9911 - val_loss: 0.2113 - val_acc: 0.9420\n",
            "Epoch 6/20\n",
            "108/108 [==============================] - 1s 12ms/step - loss: 0.0207 - acc: 0.9964 - val_loss: 0.2032 - val_acc: 0.9557\n",
            "Epoch 7/20\n",
            "108/108 [==============================] - 1s 12ms/step - loss: 0.0156 - acc: 0.9967 - val_loss: 0.2084 - val_acc: 0.9522\n",
            "Epoch 8/20\n",
            "108/108 [==============================] - 1s 12ms/step - loss: 0.0108 - acc: 0.9981 - val_loss: 0.1910 - val_acc: 0.9538\n",
            "Epoch 9/20\n",
            "108/108 [==============================] - 1s 12ms/step - loss: 0.0118 - acc: 0.9975 - val_loss: 0.1975 - val_acc: 0.9455\n",
            "Epoch 10/20\n",
            "108/108 [==============================] - 1s 12ms/step - loss: 0.0066 - acc: 0.9987 - val_loss: 0.1789 - val_acc: 0.9583\n",
            "Epoch 11/20\n",
            "108/108 [==============================] - 1s 12ms/step - loss: 0.0088 - acc: 0.9977 - val_loss: 0.2023 - val_acc: 0.9566\n",
            "Epoch 12/20\n",
            "108/108 [==============================] - 1s 12ms/step - loss: 0.0065 - acc: 0.9988 - val_loss: 0.1870 - val_acc: 0.9611\n",
            "Epoch 13/20\n",
            "108/108 [==============================] - 1s 12ms/step - loss: 0.0033 - acc: 0.9993 - val_loss: 0.1958 - val_acc: 0.9573\n",
            "Epoch 14/20\n",
            "108/108 [==============================] - 1s 12ms/step - loss: 0.0034 - acc: 0.9992 - val_loss: 0.2313 - val_acc: 0.9434\n",
            "Epoch 15/20\n",
            "108/108 [==============================] - 1s 12ms/step - loss: 0.0049 - acc: 0.9987 - val_loss: 0.2138 - val_acc: 0.9511\n",
            "Epoch 16/20\n",
            "108/108 [==============================] - 1s 12ms/step - loss: 0.0035 - acc: 0.9995 - val_loss: 0.1804 - val_acc: 0.9603\n",
            "Epoch 17/20\n",
            "108/108 [==============================] - 1s 12ms/step - loss: 0.0084 - acc: 0.9975 - val_loss: 0.1761 - val_acc: 0.9675\n",
            "Epoch 18/20\n",
            "108/108 [==============================] - 1s 12ms/step - loss: 0.0028 - acc: 0.9994 - val_loss: 0.2098 - val_acc: 0.9584\n",
            "Epoch 19/20\n",
            "108/108 [==============================] - 1s 12ms/step - loss: 0.0032 - acc: 0.9990 - val_loss: 0.1888 - val_acc: 0.9667\n",
            "Epoch 20/20\n",
            "108/108 [==============================] - 1s 12ms/step - loss: 0.0027 - acc: 0.9995 - val_loss: 0.1651 - val_acc: 0.9674\n"
          ],
          "name": "stdout"
        }
      ]
    }
  ]
}