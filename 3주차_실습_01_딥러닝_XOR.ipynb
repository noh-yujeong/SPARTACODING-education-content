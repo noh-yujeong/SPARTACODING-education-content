{
  "nbformat": 4,
  "nbformat_minor": 0,
  "metadata": {
    "colab": {
      "name": "3주차 실습 - 01. 딥러닝 XOR.ipynb",
      "provenance": [],
      "authorship_tag": "ABX9TyOrQ0bik6mueMehhXt/ob1b",
      "include_colab_link": true
    },
    "kernelspec": {
      "name": "python3",
      "display_name": "Python 3"
    },
    "language_info": {
      "name": "python"
    }
  },
  "cells": [
    {
      "cell_type": "markdown",
      "metadata": {
        "id": "view-in-github",
        "colab_type": "text"
      },
      "source": [
        "<a href=\"https://colab.research.google.com/github/noh-yujeong/SPARTACODING-education-content/blob/main/3%EC%A3%BC%EC%B0%A8_%EC%8B%A4%EC%8A%B5_01_%EB%94%A5%EB%9F%AC%EB%8B%9D_XOR.ipynb\" target=\"_parent\"><img src=\"https://colab.research.google.com/assets/colab-badge.svg\" alt=\"Open In Colab\"/></a>"
      ]
    },
    {
      "cell_type": "code",
      "metadata": {
        "id": "bcjyuKBs8fQx"
      },
      "source": [
        "import numpy as np\n",
        "from tensorflow.keras.models import Sequential\n",
        "from tensorflow.keras.layers import Dense\n",
        "from tensorflow.keras.optimizers import Adam,SGD"
      ],
      "execution_count": null,
      "outputs": []
    },
    {
      "cell_type": "code",
      "metadata": {
        "colab": {
          "base_uri": "https://localhost:8080/"
        },
        "id": "x0WelNRq83Bf",
        "outputId": "b94a2de1-5ab5-42c3-b781-0c5dbdb3bcd6"
      },
      "source": [
        "#XOR 데이터 셋\n",
        "x_data=np.array([[0,0],[0,1],[1,0],[1,1]],dtype=np.float32)\n",
        "y_data=np.array([[0],[1],[1],[0]],dtype=np.float32)\n",
        "\n",
        "print(x_data)\n",
        "print(y_data)"
      ],
      "execution_count": null,
      "outputs": [
        {
          "output_type": "stream",
          "text": [
            "[[0. 0.]\n",
            " [0. 1.]\n",
            " [1. 0.]\n",
            " [1. 1.]]\n",
            "[[0.]\n",
            " [1.]\n",
            " [1.]\n",
            " [0.]]\n"
          ],
          "name": "stdout"
        }
      ]
    },
    {
      "cell_type": "code",
      "metadata": {
        "colab": {
          "base_uri": "https://localhost:8080/"
        },
        "id": "Qy4QcI_i9TXb",
        "outputId": "2a3bd372-5df8-49c8-93a3-4b9082849006"
      },
      "source": [
        "#XOR 이진 논리 회귀\n",
        "model=Sequential([\n",
        "                  Dense(1,activation='sigmoid')\n",
        "])\n",
        "model.compile(loss='binary_crossentropy',optimizer=SGD(lr=0.1))\n",
        "\n",
        "model.fit(x_data,y_data,epochs=1000,verbose=0)"
      ],
      "execution_count": null,
      "outputs": [
        {
          "output_type": "stream",
          "text": [
            "/usr/local/lib/python3.7/dist-packages/tensorflow/python/keras/optimizer_v2/optimizer_v2.py:375: UserWarning: The `lr` argument is deprecated, use `learning_rate` instead.\n",
            "  \"The `lr` argument is deprecated, use `learning_rate` instead.\")\n"
          ],
          "name": "stderr"
        },
        {
          "output_type": "execute_result",
          "data": {
            "text/plain": [
              "<tensorflow.python.keras.callbacks.History at 0x7f7b1239aa90>"
            ]
          },
          "metadata": {
            "tags": []
          },
          "execution_count": 5
        }
      ]
    },
    {
      "cell_type": "code",
      "metadata": {
        "colab": {
          "base_uri": "https://localhost:8080/"
        },
        "id": "3QJYk6i8--W_",
        "outputId": "c079c4ce-c488-4435-d273-1d4a95fd2236"
      },
      "source": [
        "y_pred=model.predict(x_data)\n",
        "print(y_pred)"
      ],
      "execution_count": null,
      "outputs": [
        {
          "output_type": "stream",
          "text": [
            "[[0.49861583]\n",
            " [0.50016934]\n",
            " [0.4993962 ]\n",
            " [0.50094974]]\n"
          ],
          "name": "stdout"
        }
      ]
    },
    {
      "cell_type": "code",
      "metadata": {
        "colab": {
          "base_uri": "https://localhost:8080/"
        },
        "id": "-vrlq6ou_GwL",
        "outputId": "e14629df-11df-4622-a0ba-7a05af735096"
      },
      "source": [
        "#XOR딥러닝(MLP)\n",
        "\n",
        "model=Sequential([\n",
        "                  Dense(8,activation='relu'),\n",
        "                  Dense(1,activation='sigmoid'),\n",
        "])\n",
        "\n",
        "model.compile(loss='binary_crossentropy',optimizer=SGD(lr=0.1))\n",
        "\n",
        "model.fit(x_data,y_data,epochs=1000,verbose=0)"
      ],
      "execution_count": null,
      "outputs": [
        {
          "output_type": "stream",
          "text": [
            "/usr/local/lib/python3.7/dist-packages/tensorflow/python/keras/optimizer_v2/optimizer_v2.py:375: UserWarning: The `lr` argument is deprecated, use `learning_rate` instead.\n",
            "  \"The `lr` argument is deprecated, use `learning_rate` instead.\")\n"
          ],
          "name": "stderr"
        },
        {
          "output_type": "execute_result",
          "data": {
            "text/plain": [
              "<tensorflow.python.keras.callbacks.History at 0x7f7b164d2910>"
            ]
          },
          "metadata": {
            "tags": []
          },
          "execution_count": 7
        }
      ]
    },
    {
      "cell_type": "code",
      "metadata": {
        "colab": {
          "base_uri": "https://localhost:8080/"
        },
        "id": "CceyWJ6Z_pZE",
        "outputId": "0397cd20-982a-4785-ea1e-c5bb043beeb2"
      },
      "source": [
        "y_pred=model.predict(x_data)\n",
        "print(y_pred)"
      ],
      "execution_count": null,
      "outputs": [
        {
          "output_type": "stream",
          "text": [
            "[[0.04230487]\n",
            " [0.9879514 ]\n",
            " [0.9872538 ]\n",
            " [0.04230487]]\n"
          ],
          "name": "stdout"
        }
      ]
    },
    {
      "cell_type": "code",
      "metadata": {
        "id": "01M68OIe__gr"
      },
      "source": [
        "#keras Functional API\n",
        "\n",
        "import numpy as np\n",
        "from tensorflow.keras.models import Sequential,Model\n",
        "from tensorflow.keras.layers import Dense, Input\n",
        "from tensorflow.keras.optimizers import Adam, SGD"
      ],
      "execution_count": null,
      "outputs": []
    },
    {
      "cell_type": "code",
      "metadata": {
        "colab": {
          "base_uri": "https://localhost:8080/"
        },
        "id": "FGMU9XSRAWNm",
        "outputId": "024ac76a-996e-4847-d75e-7198e46e67c7"
      },
      "source": [
        "input=Input(shape=(2,))\n",
        "hidden=Dense(8,activation='relu')(input)\n",
        "output=Dense(1,activation='sigmoid')(hidden)\n",
        "\n",
        "model=Model(inputs=input,outputs=output)\n",
        "model.compile(loss='binary_crossentropy',optimizer=SGD(lr=0.1))\n",
        "model.summary()\n"
      ],
      "execution_count": null,
      "outputs": [
        {
          "output_type": "stream",
          "text": [
            "Model: \"model\"\n",
            "_________________________________________________________________\n",
            "Layer (type)                 Output Shape              Param #   \n",
            "=================================================================\n",
            "input_1 (InputLayer)         [(None, 2)]               0         \n",
            "_________________________________________________________________\n",
            "dense_3 (Dense)              (None, 8)                 24        \n",
            "_________________________________________________________________\n",
            "dense_4 (Dense)              (None, 1)                 9         \n",
            "=================================================================\n",
            "Total params: 33\n",
            "Trainable params: 33\n",
            "Non-trainable params: 0\n",
            "_________________________________________________________________\n"
          ],
          "name": "stdout"
        },
        {
          "output_type": "stream",
          "text": [
            "/usr/local/lib/python3.7/dist-packages/tensorflow/python/keras/optimizer_v2/optimizer_v2.py:375: UserWarning: The `lr` argument is deprecated, use `learning_rate` instead.\n",
            "  \"The `lr` argument is deprecated, use `learning_rate` instead.\")\n"
          ],
          "name": "stderr"
        }
      ]
    },
    {
      "cell_type": "code",
      "metadata": {
        "colab": {
          "base_uri": "https://localhost:8080/"
        },
        "id": "bhkdjoS9GGJI",
        "outputId": "5d77a0ea-a26e-4a80-952b-bbd3373c39eb"
      },
      "source": [
        "model.fit(x_data,y_data,epochs=1000,verbose=0)\n",
        "y_pred=model.predict(x_data)\n",
        "print(y_pred)"
      ],
      "execution_count": null,
      "outputs": [
        {
          "output_type": "stream",
          "text": [
            "[[0.03652331]\n",
            " [0.9895941 ]\n",
            " [0.98974574]\n",
            " [0.03652331]]\n"
          ],
          "name": "stdout"
        }
      ]
    }
  ]
}