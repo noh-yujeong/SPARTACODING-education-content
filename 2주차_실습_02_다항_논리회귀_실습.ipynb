{
  "nbformat": 4,
  "nbformat_minor": 0,
  "metadata": {
    "colab": {
      "name": "2주차 실습-02.다항 논리회귀 실습.ipynb",
      "provenance": [],
      "authorship_tag": "ABX9TyPJtbtkHFWOryk3nA22hsmA",
      "include_colab_link": true
    },
    "kernelspec": {
      "name": "python3",
      "display_name": "Python 3"
    },
    "language_info": {
      "name": "python"
    }
  },
  "cells": [
    {
      "cell_type": "markdown",
      "metadata": {
        "id": "view-in-github",
        "colab_type": "text"
      },
      "source": [
        "<a href=\"https://colab.research.google.com/github/noh-yujeong/SPARTACODING-education-content/blob/main/2%EC%A3%BC%EC%B0%A8_%EC%8B%A4%EC%8A%B5_02_%EB%8B%A4%ED%95%AD_%EB%85%BC%EB%A6%AC%ED%9A%8C%EA%B7%80_%EC%8B%A4%EC%8A%B5.ipynb\" target=\"_parent\"><img src=\"https://colab.research.google.com/assets/colab-badge.svg\" alt=\"Open In Colab\"/></a>"
      ]
    },
    {
      "cell_type": "markdown",
      "metadata": {
        "id": "k1khZtiW2d6n"
      },
      "source": [
        "# 와인 종류 예측 #\n",
        "Q. 다항 논리회귀를 이용하여, 와인을 분류하기\n",
        "와인의 도수, 산도, 색 등을 이용해서 3개의 class로 분류하기"
      ]
    },
    {
      "cell_type": "code",
      "metadata": {
        "colab": {
          "base_uri": "https://localhost:8080/"
        },
        "id": "IDt9Jpff2TY_",
        "outputId": "680af726-547f-4022-86b6-776cb7cfba70"
      },
      "source": [
        "#1. 데이터 다운로드 받기\n",
        "import os\n",
        "os.environ['KAGGLE_USERNAME']='yujeongnoh'\n",
        "os.environ['KAGGLE_KEY']='4daa67ac7c0888daf6fa77bbb559ae45'\n",
        "\n",
        "!kaggle datasets download -d brynja/wineuci\n",
        "!unzip wineuci.zip\n"
      ],
      "execution_count": null,
      "outputs": [
        {
          "output_type": "stream",
          "text": [
            "wineuci.zip: Skipping, found more recently modified local copy (use --force to force download)\n",
            "Archive:  wineuci.zip\n",
            "replace Wine.csv? [y]es, [n]o, [A]ll, [N]one, [r]ename: y\n",
            "  inflating: Wine.csv                \n"
          ],
          "name": "stdout"
        }
      ]
    },
    {
      "cell_type": "code",
      "metadata": {
        "id": "SqBQXCNG-512"
      },
      "source": [
        "#2. 필요한 Package Import 하기\n",
        "from tensorflow.keras.models import Sequential\n",
        "from  tensorflow.keras.layers import Dense\n",
        "from tensorflow.keras.optimizers import Adam, SGD\n",
        "\n",
        "import numpy as np\n",
        "import pandas as pd\n",
        "import matplotlib.pyplot as plt\n",
        "import seaborn as sns\n",
        "from sklearn.model_selection import train_test_split\n",
        "from sklearn.preprocessing import StandardScaler\n",
        "from sklearn.preprocessing import OneHotEncoder\n"
      ],
      "execution_count": null,
      "outputs": []
    },
    {
      "cell_type": "code",
      "metadata": {
        "colab": {
          "base_uri": "https://localhost:8080/",
          "height": 202
        },
        "id": "TdV957I4_mYa",
        "outputId": "72e4d5d4-7267-4ab8-d210-6366cd7887ef"
      },
      "source": [
        "#3. 데이터 loading하기\n",
        "df=pd.read_csv('Wine.csv')\n",
        "\n",
        "\n",
        "df.head(5)"
      ],
      "execution_count": null,
      "outputs": [
        {
          "output_type": "execute_result",
          "data": {
            "text/html": [
              "<div>\n",
              "<style scoped>\n",
              "    .dataframe tbody tr th:only-of-type {\n",
              "        vertical-align: middle;\n",
              "    }\n",
              "\n",
              "    .dataframe tbody tr th {\n",
              "        vertical-align: top;\n",
              "    }\n",
              "\n",
              "    .dataframe thead th {\n",
              "        text-align: right;\n",
              "    }\n",
              "</style>\n",
              "<table border=\"1\" class=\"dataframe\">\n",
              "  <thead>\n",
              "    <tr style=\"text-align: right;\">\n",
              "      <th></th>\n",
              "      <th>1</th>\n",
              "      <th>14.23</th>\n",
              "      <th>1.71</th>\n",
              "      <th>2.43</th>\n",
              "      <th>15.6</th>\n",
              "      <th>127</th>\n",
              "      <th>2.8</th>\n",
              "      <th>3.06</th>\n",
              "      <th>.28</th>\n",
              "      <th>2.29</th>\n",
              "      <th>5.64</th>\n",
              "      <th>1.04</th>\n",
              "      <th>3.92</th>\n",
              "      <th>1065</th>\n",
              "    </tr>\n",
              "  </thead>\n",
              "  <tbody>\n",
              "    <tr>\n",
              "      <th>0</th>\n",
              "      <td>1</td>\n",
              "      <td>13.20</td>\n",
              "      <td>1.78</td>\n",
              "      <td>2.14</td>\n",
              "      <td>11.2</td>\n",
              "      <td>100</td>\n",
              "      <td>2.65</td>\n",
              "      <td>2.76</td>\n",
              "      <td>0.26</td>\n",
              "      <td>1.28</td>\n",
              "      <td>4.38</td>\n",
              "      <td>1.05</td>\n",
              "      <td>3.40</td>\n",
              "      <td>1050</td>\n",
              "    </tr>\n",
              "    <tr>\n",
              "      <th>1</th>\n",
              "      <td>1</td>\n",
              "      <td>13.16</td>\n",
              "      <td>2.36</td>\n",
              "      <td>2.67</td>\n",
              "      <td>18.6</td>\n",
              "      <td>101</td>\n",
              "      <td>2.80</td>\n",
              "      <td>3.24</td>\n",
              "      <td>0.30</td>\n",
              "      <td>2.81</td>\n",
              "      <td>5.68</td>\n",
              "      <td>1.03</td>\n",
              "      <td>3.17</td>\n",
              "      <td>1185</td>\n",
              "    </tr>\n",
              "    <tr>\n",
              "      <th>2</th>\n",
              "      <td>1</td>\n",
              "      <td>14.37</td>\n",
              "      <td>1.95</td>\n",
              "      <td>2.50</td>\n",
              "      <td>16.8</td>\n",
              "      <td>113</td>\n",
              "      <td>3.85</td>\n",
              "      <td>3.49</td>\n",
              "      <td>0.24</td>\n",
              "      <td>2.18</td>\n",
              "      <td>7.80</td>\n",
              "      <td>0.86</td>\n",
              "      <td>3.45</td>\n",
              "      <td>1480</td>\n",
              "    </tr>\n",
              "    <tr>\n",
              "      <th>3</th>\n",
              "      <td>1</td>\n",
              "      <td>13.24</td>\n",
              "      <td>2.59</td>\n",
              "      <td>2.87</td>\n",
              "      <td>21.0</td>\n",
              "      <td>118</td>\n",
              "      <td>2.80</td>\n",
              "      <td>2.69</td>\n",
              "      <td>0.39</td>\n",
              "      <td>1.82</td>\n",
              "      <td>4.32</td>\n",
              "      <td>1.04</td>\n",
              "      <td>2.93</td>\n",
              "      <td>735</td>\n",
              "    </tr>\n",
              "    <tr>\n",
              "      <th>4</th>\n",
              "      <td>1</td>\n",
              "      <td>14.20</td>\n",
              "      <td>1.76</td>\n",
              "      <td>2.45</td>\n",
              "      <td>15.2</td>\n",
              "      <td>112</td>\n",
              "      <td>3.27</td>\n",
              "      <td>3.39</td>\n",
              "      <td>0.34</td>\n",
              "      <td>1.97</td>\n",
              "      <td>6.75</td>\n",
              "      <td>1.05</td>\n",
              "      <td>2.85</td>\n",
              "      <td>1450</td>\n",
              "    </tr>\n",
              "  </tbody>\n",
              "</table>\n",
              "</div>"
            ],
            "text/plain": [
              "   1  14.23  1.71  2.43  15.6  127  ...   .28  2.29  5.64  1.04  3.92  1065\n",
              "0  1  13.20  1.78  2.14  11.2  100  ...  0.26  1.28  4.38  1.05  3.40  1050\n",
              "1  1  13.16  2.36  2.67  18.6  101  ...  0.30  2.81  5.68  1.03  3.17  1185\n",
              "2  1  14.37  1.95  2.50  16.8  113  ...  0.24  2.18  7.80  0.86  3.45  1480\n",
              "3  1  13.24  2.59  2.87  21.0  118  ...  0.39  1.82  4.32  1.04  2.93   735\n",
              "4  1  14.20  1.76  2.45  15.2  112  ...  0.34  1.97  6.75  1.05  2.85  1450\n",
              "\n",
              "[5 rows x 14 columns]"
            ]
          },
          "metadata": {
            "tags": []
          },
          "execution_count": 20
        }
      ]
    },
    {
      "cell_type": "code",
      "metadata": {
        "colab": {
          "base_uri": "https://localhost:8080/",
          "height": 355
        },
        "id": "_ZiX1xq3_xY9",
        "outputId": "bbfba6af-615c-4019-d024-8bd15d3c4446"
      },
      "source": [
        "#4. 전처리\n",
        "#4-1. header 정보 채워넣기\n",
        "\n",
        "df=pd.read_csv('Wine.csv',names=[\n",
        "                                 'name',\n",
        "                                 'alcohol',\n",
        "                                 'malicAcid',\n",
        "                                 'ash',\n",
        "                                 'ashalcalinity',\n",
        "                                 'magnesium',\n",
        "                                 'totalPhenols',\n",
        "                                 'flavanoids',\n",
        "                                 'nonFlavanoidPhenols',\n",
        "                                 'proanthocyanins',\n",
        "                                 'colorIntensity',\n",
        "                                 'hue',\n",
        "                                 'od280_od315',\n",
        "                                 'proline'\n",
        "]\n",
        "               )\n",
        "df.head(10)"
      ],
      "execution_count": null,
      "outputs": [
        {
          "output_type": "execute_result",
          "data": {
            "text/html": [
              "<div>\n",
              "<style scoped>\n",
              "    .dataframe tbody tr th:only-of-type {\n",
              "        vertical-align: middle;\n",
              "    }\n",
              "\n",
              "    .dataframe tbody tr th {\n",
              "        vertical-align: top;\n",
              "    }\n",
              "\n",
              "    .dataframe thead th {\n",
              "        text-align: right;\n",
              "    }\n",
              "</style>\n",
              "<table border=\"1\" class=\"dataframe\">\n",
              "  <thead>\n",
              "    <tr style=\"text-align: right;\">\n",
              "      <th></th>\n",
              "      <th>name</th>\n",
              "      <th>alcohol</th>\n",
              "      <th>malicAcid</th>\n",
              "      <th>ash</th>\n",
              "      <th>ashalcalinity</th>\n",
              "      <th>magnesium</th>\n",
              "      <th>totalPhenols</th>\n",
              "      <th>flavanoids</th>\n",
              "      <th>nonFlavanoidPhenols</th>\n",
              "      <th>proanthocyanins</th>\n",
              "      <th>colorIntensity</th>\n",
              "      <th>hue</th>\n",
              "      <th>od280_od315</th>\n",
              "      <th>proline</th>\n",
              "    </tr>\n",
              "  </thead>\n",
              "  <tbody>\n",
              "    <tr>\n",
              "      <th>0</th>\n",
              "      <td>1</td>\n",
              "      <td>14.23</td>\n",
              "      <td>1.71</td>\n",
              "      <td>2.43</td>\n",
              "      <td>15.6</td>\n",
              "      <td>127</td>\n",
              "      <td>2.80</td>\n",
              "      <td>3.06</td>\n",
              "      <td>0.28</td>\n",
              "      <td>2.29</td>\n",
              "      <td>5.64</td>\n",
              "      <td>1.04</td>\n",
              "      <td>3.92</td>\n",
              "      <td>1065</td>\n",
              "    </tr>\n",
              "    <tr>\n",
              "      <th>1</th>\n",
              "      <td>1</td>\n",
              "      <td>13.20</td>\n",
              "      <td>1.78</td>\n",
              "      <td>2.14</td>\n",
              "      <td>11.2</td>\n",
              "      <td>100</td>\n",
              "      <td>2.65</td>\n",
              "      <td>2.76</td>\n",
              "      <td>0.26</td>\n",
              "      <td>1.28</td>\n",
              "      <td>4.38</td>\n",
              "      <td>1.05</td>\n",
              "      <td>3.40</td>\n",
              "      <td>1050</td>\n",
              "    </tr>\n",
              "    <tr>\n",
              "      <th>2</th>\n",
              "      <td>1</td>\n",
              "      <td>13.16</td>\n",
              "      <td>2.36</td>\n",
              "      <td>2.67</td>\n",
              "      <td>18.6</td>\n",
              "      <td>101</td>\n",
              "      <td>2.80</td>\n",
              "      <td>3.24</td>\n",
              "      <td>0.30</td>\n",
              "      <td>2.81</td>\n",
              "      <td>5.68</td>\n",
              "      <td>1.03</td>\n",
              "      <td>3.17</td>\n",
              "      <td>1185</td>\n",
              "    </tr>\n",
              "    <tr>\n",
              "      <th>3</th>\n",
              "      <td>1</td>\n",
              "      <td>14.37</td>\n",
              "      <td>1.95</td>\n",
              "      <td>2.50</td>\n",
              "      <td>16.8</td>\n",
              "      <td>113</td>\n",
              "      <td>3.85</td>\n",
              "      <td>3.49</td>\n",
              "      <td>0.24</td>\n",
              "      <td>2.18</td>\n",
              "      <td>7.80</td>\n",
              "      <td>0.86</td>\n",
              "      <td>3.45</td>\n",
              "      <td>1480</td>\n",
              "    </tr>\n",
              "    <tr>\n",
              "      <th>4</th>\n",
              "      <td>1</td>\n",
              "      <td>13.24</td>\n",
              "      <td>2.59</td>\n",
              "      <td>2.87</td>\n",
              "      <td>21.0</td>\n",
              "      <td>118</td>\n",
              "      <td>2.80</td>\n",
              "      <td>2.69</td>\n",
              "      <td>0.39</td>\n",
              "      <td>1.82</td>\n",
              "      <td>4.32</td>\n",
              "      <td>1.04</td>\n",
              "      <td>2.93</td>\n",
              "      <td>735</td>\n",
              "    </tr>\n",
              "    <tr>\n",
              "      <th>5</th>\n",
              "      <td>1</td>\n",
              "      <td>14.20</td>\n",
              "      <td>1.76</td>\n",
              "      <td>2.45</td>\n",
              "      <td>15.2</td>\n",
              "      <td>112</td>\n",
              "      <td>3.27</td>\n",
              "      <td>3.39</td>\n",
              "      <td>0.34</td>\n",
              "      <td>1.97</td>\n",
              "      <td>6.75</td>\n",
              "      <td>1.05</td>\n",
              "      <td>2.85</td>\n",
              "      <td>1450</td>\n",
              "    </tr>\n",
              "    <tr>\n",
              "      <th>6</th>\n",
              "      <td>1</td>\n",
              "      <td>14.39</td>\n",
              "      <td>1.87</td>\n",
              "      <td>2.45</td>\n",
              "      <td>14.6</td>\n",
              "      <td>96</td>\n",
              "      <td>2.50</td>\n",
              "      <td>2.52</td>\n",
              "      <td>0.30</td>\n",
              "      <td>1.98</td>\n",
              "      <td>5.25</td>\n",
              "      <td>1.02</td>\n",
              "      <td>3.58</td>\n",
              "      <td>1290</td>\n",
              "    </tr>\n",
              "    <tr>\n",
              "      <th>7</th>\n",
              "      <td>1</td>\n",
              "      <td>14.06</td>\n",
              "      <td>2.15</td>\n",
              "      <td>2.61</td>\n",
              "      <td>17.6</td>\n",
              "      <td>121</td>\n",
              "      <td>2.60</td>\n",
              "      <td>2.51</td>\n",
              "      <td>0.31</td>\n",
              "      <td>1.25</td>\n",
              "      <td>5.05</td>\n",
              "      <td>1.06</td>\n",
              "      <td>3.58</td>\n",
              "      <td>1295</td>\n",
              "    </tr>\n",
              "    <tr>\n",
              "      <th>8</th>\n",
              "      <td>1</td>\n",
              "      <td>14.83</td>\n",
              "      <td>1.64</td>\n",
              "      <td>2.17</td>\n",
              "      <td>14.0</td>\n",
              "      <td>97</td>\n",
              "      <td>2.80</td>\n",
              "      <td>2.98</td>\n",
              "      <td>0.29</td>\n",
              "      <td>1.98</td>\n",
              "      <td>5.20</td>\n",
              "      <td>1.08</td>\n",
              "      <td>2.85</td>\n",
              "      <td>1045</td>\n",
              "    </tr>\n",
              "    <tr>\n",
              "      <th>9</th>\n",
              "      <td>1</td>\n",
              "      <td>13.86</td>\n",
              "      <td>1.35</td>\n",
              "      <td>2.27</td>\n",
              "      <td>16.0</td>\n",
              "      <td>98</td>\n",
              "      <td>2.98</td>\n",
              "      <td>3.15</td>\n",
              "      <td>0.22</td>\n",
              "      <td>1.85</td>\n",
              "      <td>7.22</td>\n",
              "      <td>1.01</td>\n",
              "      <td>3.55</td>\n",
              "      <td>1045</td>\n",
              "    </tr>\n",
              "  </tbody>\n",
              "</table>\n",
              "</div>"
            ],
            "text/plain": [
              "   name  alcohol  malicAcid   ash  ...  colorIntensity   hue  od280_od315  proline\n",
              "0     1    14.23       1.71  2.43  ...            5.64  1.04         3.92     1065\n",
              "1     1    13.20       1.78  2.14  ...            4.38  1.05         3.40     1050\n",
              "2     1    13.16       2.36  2.67  ...            5.68  1.03         3.17     1185\n",
              "3     1    14.37       1.95  2.50  ...            7.80  0.86         3.45     1480\n",
              "4     1    13.24       2.59  2.87  ...            4.32  1.04         2.93      735\n",
              "5     1    14.20       1.76  2.45  ...            6.75  1.05         2.85     1450\n",
              "6     1    14.39       1.87  2.45  ...            5.25  1.02         3.58     1290\n",
              "7     1    14.06       2.15  2.61  ...            5.05  1.06         3.58     1295\n",
              "8     1    14.83       1.64  2.17  ...            5.20  1.08         2.85     1045\n",
              "9     1    13.86       1.35  2.27  ...            7.22  1.01         3.55     1045\n",
              "\n",
              "[10 rows x 14 columns]"
            ]
          },
          "metadata": {
            "tags": []
          },
          "execution_count": 26
        }
      ]
    },
    {
      "cell_type": "code",
      "metadata": {
        "colab": {
          "base_uri": "https://localhost:8080/",
          "height": 545
        },
        "id": "H2c5Wcz0EwD1",
        "outputId": "327bf447-c2c6-4174-80f5-bccf29a88307"
      },
      "source": [
        "sns.countplot(x=df['name'])\n",
        "print(df.isnull().sum())"
      ],
      "execution_count": null,
      "outputs": [
        {
          "output_type": "stream",
          "text": [
            "name                   0\n",
            "alcohol                0\n",
            "malicAcid              0\n",
            "ash                    0\n",
            "ashalcalinity          0\n",
            "magnesium              0\n",
            "totalPhenols           0\n",
            "flavanoids             0\n",
            "nonFlavanoidPhenols    0\n",
            "proanthocyanins        0\n",
            "colorIntensity         0\n",
            "hue                    0\n",
            "od280_od315            0\n",
            "proline                0\n",
            "dtype: int64\n"
          ],
          "name": "stdout"
        },
        {
          "output_type": "display_data",
          "data": {
            "image/png": "[encoded data removed]",
            "text/plain": [
              "<Figure size 432x288 with 1 Axes>"
            ]
          },
          "metadata": {
            "tags": [],
            "needs_background": "light"
          }
        }
      ]
    },
    {
      "cell_type": "code",
      "metadata": {
        "colab": {
          "base_uri": "https://localhost:8080/",
          "height": 202
        },
        "id": "0z8m8ZX6BG4B",
        "outputId": "97cfb3f4-35a2-4e0a-e385-d2c9d6baacce"
      },
      "source": [
        "#4. 전처리\n",
        "#4-2. X,Y 데이터 분할\n",
        "x_data=df.drop(columns=['name'],axis=1)\n",
        "x_data=x_data.astype(np.float32)\n",
        "\n",
        "y_data=df[['name']]\n",
        "y_data=y_data.astype(np.float32)\n",
        "y_data.head(5)"
      ],
      "execution_count": null,
      "outputs": [
        {
          "output_type": "execute_result",
          "data": {
            "text/html": [
              "<div>\n",
              "<style scoped>\n",
              "    .dataframe tbody tr th:only-of-type {\n",
              "        vertical-align: middle;\n",
              "    }\n",
              "\n",
              "    .dataframe tbody tr th {\n",
              "        vertical-align: top;\n",
              "    }\n",
              "\n",
              "    .dataframe thead th {\n",
              "        text-align: right;\n",
              "    }\n",
              "</style>\n",
              "<table border=\"1\" class=\"dataframe\">\n",
              "  <thead>\n",
              "    <tr style=\"text-align: right;\">\n",
              "      <th></th>\n",
              "      <th>name</th>\n",
              "    </tr>\n",
              "  </thead>\n",
              "  <tbody>\n",
              "    <tr>\n",
              "      <th>0</th>\n",
              "      <td>1.0</td>\n",
              "    </tr>\n",
              "    <tr>\n",
              "      <th>1</th>\n",
              "      <td>1.0</td>\n",
              "    </tr>\n",
              "    <tr>\n",
              "      <th>2</th>\n",
              "      <td>1.0</td>\n",
              "    </tr>\n",
              "    <tr>\n",
              "      <th>3</th>\n",
              "      <td>1.0</td>\n",
              "    </tr>\n",
              "    <tr>\n",
              "      <th>4</th>\n",
              "      <td>1.0</td>\n",
              "    </tr>\n",
              "  </tbody>\n",
              "</table>\n",
              "</div>"
            ],
            "text/plain": [
              "   name\n",
              "0   1.0\n",
              "1   1.0\n",
              "2   1.0\n",
              "3   1.0\n",
              "4   1.0"
            ]
          },
          "metadata": {
            "tags": []
          },
          "execution_count": 31
        }
      ]
    },
    {
      "cell_type": "code",
      "metadata": {
        "colab": {
          "base_uri": "https://localhost:8080/"
        },
        "id": "nfotIRA2BfGa",
        "outputId": "be7b73af-fdb2-44cd-f5d6-ae88bb564544"
      },
      "source": [
        "#4. 전처리\n",
        "#4-3. 표준화하기\n",
        "\n",
        "scaler=StandardScaler()\n",
        "x_data_scaled=scaler.fit_transform(x_data)\n",
        "print(x_data.values[0])\n",
        "print(x_data_scaled[0])\n",
        "\n",
        "#4. 전처리\n",
        "#4-4. one hot encoding\n",
        "\n",
        "encoder=OneHotEncoder()\n",
        "y_data_encoded=encoder.fit_transform(y_data).toarray()\n",
        "\n",
        "print(y_data.values[0])\n",
        "print(y_data_encoded[0])\n",
        "\n",
        "#4. 전처리\n",
        "#4-5. 학습, 검증 데이터 분할\n",
        "x_train,x_val,y_train,y_val=train_test_split(x_data_scaled,y_data_encoded,test_size=0.2,random_state=2021)\n",
        "\n",
        "print(x_train.shape, x_val.shape)\n",
        "print(y_train.shape, y_val.shape)"
      ],
      "execution_count": null,
      "outputs": [
        {
          "output_type": "stream",
          "text": [
            "[1.423e+01 1.710e+00 2.430e+00 1.560e+01 1.270e+02 2.800e+00 3.060e+00\n",
            " 2.800e-01 2.290e+00 5.640e+00 1.040e+00 3.920e+00 1.065e+03]\n",
            "[ 1.5186119  -0.5622497   0.2320528  -1.1695931   1.9139051   0.8089973\n",
            "  1.0348189  -0.65956306  1.2248839   0.2517168   0.3621771   1.8479197\n",
            "  1.013009  ]\n",
            "[1.]\n",
            "[1. 0. 0.]\n",
            "(142, 13) (36, 13)\n",
            "(142, 3) (36, 3)\n"
          ],
          "name": "stdout"
        }
      ]
    },
    {
      "cell_type": "code",
      "metadata": {
        "colab": {
          "base_uri": "https://localhost:8080/"
        },
        "id": "wwnwtlyiCTK8",
        "outputId": "3ac5a577-9599-4775-ac60-7c4a86f0f3fe"
      },
      "source": [
        "model = Sequential([\n",
        "  Dense(3, activation='softmax')\n",
        "])\n",
        "\n",
        "model.compile(loss='categorical_crossentropy', optimizer=Adam(lr=0.02), metrics=['acc'])\n",
        "\n",
        "model.fit(\n",
        "    x_train,\n",
        "    y_train,\n",
        "    validation_data=(x_val, y_val), # 검증 데이터를 넣어주면 한 epoch이 끝날때마다 자동으로 검증\n",
        "    epochs=20 # epochs 복수형으로 쓰기!\n",
        ")\n"
      ],
      "execution_count": null,
      "outputs": [
        {
          "output_type": "stream",
          "text": [
            "/usr/local/lib/python3.7/dist-packages/tensorflow/python/keras/optimizer_v2/optimizer_v2.py:375: UserWarning: The `lr` argument is deprecated, use `learning_rate` instead.\n",
            "  \"The `lr` argument is deprecated, use `learning_rate` instead.\")\n"
          ],
          "name": "stderr"
        },
        {
          "output_type": "stream",
          "text": [
            "Epoch 1/20\n",
            "5/5 [==============================] - 0s 39ms/step - loss: 1.4747 - acc: 0.3169 - val_loss: 0.8830 - val_acc: 0.5833\n",
            "Epoch 2/20\n",
            "5/5 [==============================] - 0s 7ms/step - loss: 0.7970 - acc: 0.6408 - val_loss: 0.5287 - val_acc: 0.8333\n",
            "Epoch 3/20\n",
            "5/5 [==============================] - 0s 6ms/step - loss: 0.4357 - acc: 0.8662 - val_loss: 0.3721 - val_acc: 0.8889\n",
            "Epoch 4/20\n",
            "5/5 [==============================] - 0s 6ms/step - loss: 0.2642 - acc: 0.9437 - val_loss: 0.2833 - val_acc: 0.9167\n",
            "Epoch 5/20\n",
            "5/5 [==============================] - 0s 6ms/step - loss: 0.1876 - acc: 0.9507 - val_loss: 0.2264 - val_acc: 0.9167\n",
            "Epoch 6/20\n",
            "5/5 [==============================] - 0s 6ms/step - loss: 0.1424 - acc: 0.9859 - val_loss: 0.1928 - val_acc: 0.9167\n",
            "Epoch 7/20\n",
            "5/5 [==============================] - 0s 9ms/step - loss: 0.1160 - acc: 0.9859 - val_loss: 0.1716 - val_acc: 0.9444\n",
            "Epoch 8/20\n",
            "5/5 [==============================] - 0s 7ms/step - loss: 0.0990 - acc: 0.9859 - val_loss: 0.1580 - val_acc: 0.9444\n",
            "Epoch 9/20\n",
            "5/5 [==============================] - 0s 7ms/step - loss: 0.0872 - acc: 0.9859 - val_loss: 0.1502 - val_acc: 0.9444\n",
            "Epoch 10/20\n",
            "5/5 [==============================] - 0s 7ms/step - loss: 0.0790 - acc: 0.9859 - val_loss: 0.1448 - val_acc: 0.9444\n",
            "Epoch 11/20\n",
            "5/5 [==============================] - 0s 6ms/step - loss: 0.0726 - acc: 0.9859 - val_loss: 0.1424 - val_acc: 0.9444\n",
            "Epoch 12/20\n",
            "5/5 [==============================] - 0s 7ms/step - loss: 0.0678 - acc: 0.9859 - val_loss: 0.1411 - val_acc: 0.9444\n",
            "Epoch 13/20\n",
            "5/5 [==============================] - 0s 6ms/step - loss: 0.0633 - acc: 0.9930 - val_loss: 0.1385 - val_acc: 0.9722\n",
            "Epoch 14/20\n",
            "5/5 [==============================] - 0s 7ms/step - loss: 0.0598 - acc: 0.9930 - val_loss: 0.1376 - val_acc: 0.9722\n",
            "Epoch 15/20\n",
            "5/5 [==============================] - 0s 7ms/step - loss: 0.0566 - acc: 1.0000 - val_loss: 0.1373 - val_acc: 0.9722\n",
            "Epoch 16/20\n",
            "5/5 [==============================] - 0s 7ms/step - loss: 0.0537 - acc: 1.0000 - val_loss: 0.1382 - val_acc: 0.9722\n",
            "Epoch 17/20\n",
            "5/5 [==============================] - 0s 8ms/step - loss: 0.0512 - acc: 1.0000 - val_loss: 0.1396 - val_acc: 0.9444\n",
            "Epoch 18/20\n",
            "5/5 [==============================] - 0s 7ms/step - loss: 0.0489 - acc: 1.0000 - val_loss: 0.1414 - val_acc: 0.9444\n",
            "Epoch 19/20\n",
            "5/5 [==============================] - 0s 6ms/step - loss: 0.0470 - acc: 1.0000 - val_loss: 0.1412 - val_acc: 0.9444\n",
            "Epoch 20/20\n",
            "5/5 [==============================] - 0s 8ms/step - loss: 0.0449 - acc: 1.0000 - val_loss: 0.1412 - val_acc: 0.9444\n"
          ],
          "name": "stdout"
        },
        {
          "output_type": "execute_result",
          "data": {
            "text/plain": [
              "<tensorflow.python.keras.callbacks.History at 0x7f2f4877d150>"
            ]
          },
          "metadata": {
            "tags": []
          },
          "execution_count": 35
        }
      ]
    }
  ]
}