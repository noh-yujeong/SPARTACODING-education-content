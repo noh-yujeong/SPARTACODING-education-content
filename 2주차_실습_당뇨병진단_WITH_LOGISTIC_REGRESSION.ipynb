{
  "nbformat": 4,
  "nbformat_minor": 0,
  "metadata": {
    "colab": {
      "name": "2주차 실습-당뇨병진단 WITH LOGISTIC REGRESSION.ipynb",
      "provenance": [],
      "authorship_tag": "ABX9TyPqZ1lv3MIVWhrGuwIih2VC",
      "include_colab_link": true
    },
    "kernelspec": {
      "name": "python3",
      "display_name": "Python 3"
    },
    "language_info": {
      "name": "python"
    }
  },
  "cells": [
    {
      "cell_type": "markdown",
      "metadata": {
        "id": "view-in-github",
        "colab_type": "text"
      },
      "source": [
        "<a href=\"https://colab.research.google.com/github/noh-yujeong/SPARTACODING-education-content/blob/main/2%EC%A3%BC%EC%B0%A8_%EC%8B%A4%EC%8A%B5_%EB%8B%B9%EB%87%A8%EB%B3%91%EC%A7%84%EB%8B%A8_WITH_LOGISTIC_REGRESSION.ipynb\" target=\"_parent\"><img src=\"https://colab.research.google.com/assets/colab-badge.svg\" alt=\"Open In Colab\"/></a>"
      ]
    },
    {
      "cell_type": "code",
      "metadata": {
        "colab": {
          "base_uri": "https://localhost:8080/"
        },
        "id": "QOtEL3aUK4kV",
        "outputId": "1e03bb0e-f6af-4e64-95f5-03189cf9b8f8"
      },
      "source": [
        "import os\n",
        "os.environ['KAGGLE_USERNAME']='yujeongnoh'\n",
        "os.environ['KAGGLE_KEY']='2cc78e97f3ecf39d0addf7f6420db18f'\n",
        "\n",
        "\n",
        "!kaggle datasets download -d kandij/diabetes-dataset\n",
        "!unzip diabetes-dataset.zip\n",
        "\n",
        "\n"
      ],
      "execution_count": 1,
      "outputs": [
        {
          "output_type": "stream",
          "text": [
            "Downloading diabetes-dataset.zip to /content\n",
            "\r  0% 0.00/8.92k [00:00<?, ?B/s]\n",
            "\r100% 8.92k/8.92k [00:00<00:00, 3.35MB/s]\n",
            "Archive:  diabetes-dataset.zip\n",
            "  inflating: diabetes2.csv           \n"
          ],
          "name": "stdout"
        }
      ]
    },
    {
      "cell_type": "code",
      "metadata": {
        "id": "_nqFDDjGL7Lt"
      },
      "source": [
        "from tensorflow.keras.models import Sequential\n",
        "from tensorflow.keras.layers import Dense\n",
        "from tensorflow.keras.optimizers import Adam,SGD\n",
        "import numpy as np\n",
        "import pandas as pd\n",
        "import matplotlib.pyplot as plt\n",
        "import seaborn as sns\n",
        "from sklearn.model_selection import train_test_split\n",
        "from sklearn.preprocessing import StandardScaler"
      ],
      "execution_count": 2,
      "outputs": []
    },
    {
      "cell_type": "code",
      "metadata": {
        "id": "JWnV9DIbMp8_"
      },
      "source": [
        "df=pd.read_csv('diabetes2.csv')"
      ],
      "execution_count": 3,
      "outputs": []
    },
    {
      "cell_type": "code",
      "metadata": {
        "colab": {
          "base_uri": "https://localhost:8080/",
          "height": 202
        },
        "id": "4vE-xZsHMzNx",
        "outputId": "f4f3e0cf-80da-4ace-d928-dd1ac455952d"
      },
      "source": [
        "df.head(5)"
      ],
      "execution_count": 4,
      "outputs": [
        {
          "output_type": "execute_result",
          "data": {
            "text/html": [
              "<div>\n",
              "<style scoped>\n",
              "    .dataframe tbody tr th:only-of-type {\n",
              "        vertical-align: middle;\n",
              "    }\n",
              "\n",
              "    .dataframe tbody tr th {\n",
              "        vertical-align: top;\n",
              "    }\n",
              "\n",
              "    .dataframe thead th {\n",
              "        text-align: right;\n",
              "    }\n",
              "</style>\n",
              "<table border=\"1\" class=\"dataframe\">\n",
              "  <thead>\n",
              "    <tr style=\"text-align: right;\">\n",
              "      <th></th>\n",
              "      <th>Pregnancies</th>\n",
              "      <th>Glucose</th>\n",
              "      <th>BloodPressure</th>\n",
              "      <th>SkinThickness</th>\n",
              "      <th>Insulin</th>\n",
              "      <th>BMI</th>\n",
              "      <th>DiabetesPedigreeFunction</th>\n",
              "      <th>Age</th>\n",
              "      <th>Outcome</th>\n",
              "    </tr>\n",
              "  </thead>\n",
              "  <tbody>\n",
              "    <tr>\n",
              "      <th>0</th>\n",
              "      <td>6</td>\n",
              "      <td>148</td>\n",
              "      <td>72</td>\n",
              "      <td>35</td>\n",
              "      <td>0</td>\n",
              "      <td>33.6</td>\n",
              "      <td>0.627</td>\n",
              "      <td>50</td>\n",
              "      <td>1</td>\n",
              "    </tr>\n",
              "    <tr>\n",
              "      <th>1</th>\n",
              "      <td>1</td>\n",
              "      <td>85</td>\n",
              "      <td>66</td>\n",
              "      <td>29</td>\n",
              "      <td>0</td>\n",
              "      <td>26.6</td>\n",
              "      <td>0.351</td>\n",
              "      <td>31</td>\n",
              "      <td>0</td>\n",
              "    </tr>\n",
              "    <tr>\n",
              "      <th>2</th>\n",
              "      <td>8</td>\n",
              "      <td>183</td>\n",
              "      <td>64</td>\n",
              "      <td>0</td>\n",
              "      <td>0</td>\n",
              "      <td>23.3</td>\n",
              "      <td>0.672</td>\n",
              "      <td>32</td>\n",
              "      <td>1</td>\n",
              "    </tr>\n",
              "    <tr>\n",
              "      <th>3</th>\n",
              "      <td>1</td>\n",
              "      <td>89</td>\n",
              "      <td>66</td>\n",
              "      <td>23</td>\n",
              "      <td>94</td>\n",
              "      <td>28.1</td>\n",
              "      <td>0.167</td>\n",
              "      <td>21</td>\n",
              "      <td>0</td>\n",
              "    </tr>\n",
              "    <tr>\n",
              "      <th>4</th>\n",
              "      <td>0</td>\n",
              "      <td>137</td>\n",
              "      <td>40</td>\n",
              "      <td>35</td>\n",
              "      <td>168</td>\n",
              "      <td>43.1</td>\n",
              "      <td>2.288</td>\n",
              "      <td>33</td>\n",
              "      <td>1</td>\n",
              "    </tr>\n",
              "  </tbody>\n",
              "</table>\n",
              "</div>"
            ],
            "text/plain": [
              "   Pregnancies  Glucose  BloodPressure  ...  DiabetesPedigreeFunction  Age  Outcome\n",
              "0            6      148             72  ...                     0.627   50        1\n",
              "1            1       85             66  ...                     0.351   31        0\n",
              "2            8      183             64  ...                     0.672   32        1\n",
              "3            1       89             66  ...                     0.167   21        0\n",
              "4            0      137             40  ...                     2.288   33        1\n",
              "\n",
              "[5 rows x 9 columns]"
            ]
          },
          "metadata": {
            "tags": []
          },
          "execution_count": 4
        }
      ]
    },
    {
      "cell_type": "code",
      "metadata": {
        "colab": {
          "base_uri": "https://localhost:8080/",
          "height": 202
        },
        "id": "pYea8bAEM9U4",
        "outputId": "b1c9b416-bb82-4f3a-fc4c-85793070b68f"
      },
      "source": [
        "x_data=df.drop(columns=['Outcome'],axis=1)\n",
        "\n",
        "x_data.head(5)\n",
        "\n"
      ],
      "execution_count": 22,
      "outputs": [
        {
          "output_type": "execute_result",
          "data": {
            "text/html": [
              "<div>\n",
              "<style scoped>\n",
              "    .dataframe tbody tr th:only-of-type {\n",
              "        vertical-align: middle;\n",
              "    }\n",
              "\n",
              "    .dataframe tbody tr th {\n",
              "        vertical-align: top;\n",
              "    }\n",
              "\n",
              "    .dataframe thead th {\n",
              "        text-align: right;\n",
              "    }\n",
              "</style>\n",
              "<table border=\"1\" class=\"dataframe\">\n",
              "  <thead>\n",
              "    <tr style=\"text-align: right;\">\n",
              "      <th></th>\n",
              "      <th>Pregnancies</th>\n",
              "      <th>Glucose</th>\n",
              "      <th>BloodPressure</th>\n",
              "      <th>SkinThickness</th>\n",
              "      <th>Insulin</th>\n",
              "      <th>BMI</th>\n",
              "      <th>DiabetesPedigreeFunction</th>\n",
              "      <th>Age</th>\n",
              "    </tr>\n",
              "  </thead>\n",
              "  <tbody>\n",
              "    <tr>\n",
              "      <th>0</th>\n",
              "      <td>6</td>\n",
              "      <td>148</td>\n",
              "      <td>72</td>\n",
              "      <td>35</td>\n",
              "      <td>0</td>\n",
              "      <td>33.6</td>\n",
              "      <td>0.627</td>\n",
              "      <td>50</td>\n",
              "    </tr>\n",
              "    <tr>\n",
              "      <th>1</th>\n",
              "      <td>1</td>\n",
              "      <td>85</td>\n",
              "      <td>66</td>\n",
              "      <td>29</td>\n",
              "      <td>0</td>\n",
              "      <td>26.6</td>\n",
              "      <td>0.351</td>\n",
              "      <td>31</td>\n",
              "    </tr>\n",
              "    <tr>\n",
              "      <th>2</th>\n",
              "      <td>8</td>\n",
              "      <td>183</td>\n",
              "      <td>64</td>\n",
              "      <td>0</td>\n",
              "      <td>0</td>\n",
              "      <td>23.3</td>\n",
              "      <td>0.672</td>\n",
              "      <td>32</td>\n",
              "    </tr>\n",
              "    <tr>\n",
              "      <th>3</th>\n",
              "      <td>1</td>\n",
              "      <td>89</td>\n",
              "      <td>66</td>\n",
              "      <td>23</td>\n",
              "      <td>94</td>\n",
              "      <td>28.1</td>\n",
              "      <td>0.167</td>\n",
              "      <td>21</td>\n",
              "    </tr>\n",
              "    <tr>\n",
              "      <th>4</th>\n",
              "      <td>0</td>\n",
              "      <td>137</td>\n",
              "      <td>40</td>\n",
              "      <td>35</td>\n",
              "      <td>168</td>\n",
              "      <td>43.1</td>\n",
              "      <td>2.288</td>\n",
              "      <td>33</td>\n",
              "    </tr>\n",
              "  </tbody>\n",
              "</table>\n",
              "</div>"
            ],
            "text/plain": [
              "   Pregnancies  Glucose  BloodPressure  ...   BMI  DiabetesPedigreeFunction  Age\n",
              "0            6      148             72  ...  33.6                     0.627   50\n",
              "1            1       85             66  ...  26.6                     0.351   31\n",
              "2            8      183             64  ...  23.3                     0.672   32\n",
              "3            1       89             66  ...  28.1                     0.167   21\n",
              "4            0      137             40  ...  43.1                     2.288   33\n",
              "\n",
              "[5 rows x 8 columns]"
            ]
          },
          "metadata": {
            "tags": []
          },
          "execution_count": 22
        }
      ]
    },
    {
      "cell_type": "code",
      "metadata": {
        "colab": {
          "base_uri": "https://localhost:8080/",
          "height": 202
        },
        "id": "CsENrRnJO2Uq",
        "outputId": "29acf8f9-dbfe-48a2-bce1-b6c4440c292d"
      },
      "source": [
        "x_data=x_data.astype(np.float32)\n",
        "\n",
        "y_data=df[['Outcome']]\n",
        "y_data=y_data.astype(np.float32)\n",
        "y_data.head(5)"
      ],
      "execution_count": 12,
      "outputs": [
        {
          "output_type": "execute_result",
          "data": {
            "text/html": [
              "<div>\n",
              "<style scoped>\n",
              "    .dataframe tbody tr th:only-of-type {\n",
              "        vertical-align: middle;\n",
              "    }\n",
              "\n",
              "    .dataframe tbody tr th {\n",
              "        vertical-align: top;\n",
              "    }\n",
              "\n",
              "    .dataframe thead th {\n",
              "        text-align: right;\n",
              "    }\n",
              "</style>\n",
              "<table border=\"1\" class=\"dataframe\">\n",
              "  <thead>\n",
              "    <tr style=\"text-align: right;\">\n",
              "      <th></th>\n",
              "      <th>Outcome</th>\n",
              "    </tr>\n",
              "  </thead>\n",
              "  <tbody>\n",
              "    <tr>\n",
              "      <th>0</th>\n",
              "      <td>1.0</td>\n",
              "    </tr>\n",
              "    <tr>\n",
              "      <th>1</th>\n",
              "      <td>0.0</td>\n",
              "    </tr>\n",
              "    <tr>\n",
              "      <th>2</th>\n",
              "      <td>1.0</td>\n",
              "    </tr>\n",
              "    <tr>\n",
              "      <th>3</th>\n",
              "      <td>0.0</td>\n",
              "    </tr>\n",
              "    <tr>\n",
              "      <th>4</th>\n",
              "      <td>1.0</td>\n",
              "    </tr>\n",
              "  </tbody>\n",
              "</table>\n",
              "</div>"
            ],
            "text/plain": [
              "   Outcome\n",
              "0      1.0\n",
              "1      0.0\n",
              "2      1.0\n",
              "3      0.0\n",
              "4      1.0"
            ]
          },
          "metadata": {
            "tags": []
          },
          "execution_count": 12
        }
      ]
    },
    {
      "cell_type": "code",
      "metadata": {
        "id": "2H3OM7bJPOW0"
      },
      "source": [
        "scaler=StandardScaler()\n",
        "\n",
        "x_data_scaled=scaler.fit_transform(x_data)"
      ],
      "execution_count": 13,
      "outputs": []
    },
    {
      "cell_type": "code",
      "metadata": {
        "id": "2HHTiDsYPcsB"
      },
      "source": [
        "x_train,x_val,y_train,y_val=train_test_split(x_data_scaled,y_data,test_size=0.2,random_state=2021)"
      ],
      "execution_count": 14,
      "outputs": []
    },
    {
      "cell_type": "code",
      "metadata": {
        "id": "wQ26yvFcPqSn"
      },
      "source": [
        "model=Sequential([\n",
        "    Dense(1,activation='sigmoid')\n",
        "])"
      ],
      "execution_count": 17,
      "outputs": []
    },
    {
      "cell_type": "code",
      "metadata": {
        "colab": {
          "base_uri": "https://localhost:8080/"
        },
        "id": "vN9-YrRtQKeQ",
        "outputId": "113d394f-6a3d-4d2b-d871-f16b56107161"
      },
      "source": [
        "model.compile(loss='binary_crossentropy',optimizer=Adam(lr=0.2),metrics=['acc'])\n",
        "\n",
        "model.fit(\n",
        "    x_train,y_train,validation_data=(x_val,y_val),\n",
        "    epochs=100\n",
        ")"
      ],
      "execution_count": 21,
      "outputs": [
        {
          "output_type": "stream",
          "text": [
            "/usr/local/lib/python3.7/dist-packages/tensorflow/python/keras/optimizer_v2/optimizer_v2.py:375: UserWarning: The `lr` argument is deprecated, use `learning_rate` instead.\n",
            "  \"The `lr` argument is deprecated, use `learning_rate` instead.\")\n"
          ],
          "name": "stderr"
        },
        {
          "output_type": "stream",
          "text": [
            "Epoch 1/100\n",
            "20/20 [==============================] - 1s 9ms/step - loss: 0.5313 - acc: 0.7557 - val_loss: 0.5679 - val_acc: 0.7468\n",
            "Epoch 2/100\n",
            "20/20 [==============================] - 0s 3ms/step - loss: 0.5355 - acc: 0.7573 - val_loss: 0.5422 - val_acc: 0.7597\n",
            "Epoch 3/100\n",
            "20/20 [==============================] - 0s 3ms/step - loss: 0.5300 - acc: 0.7492 - val_loss: 0.4976 - val_acc: 0.7792\n",
            "Epoch 4/100\n",
            "20/20 [==============================] - 0s 4ms/step - loss: 0.5403 - acc: 0.7638 - val_loss: 0.4970 - val_acc: 0.7468\n",
            "Epoch 5/100\n",
            "20/20 [==============================] - 0s 3ms/step - loss: 0.4869 - acc: 0.7606 - val_loss: 0.4950 - val_acc: 0.7792\n",
            "Epoch 6/100\n",
            "20/20 [==============================] - 0s 3ms/step - loss: 0.5249 - acc: 0.7524 - val_loss: 0.4748 - val_acc: 0.7857\n",
            "Epoch 7/100\n",
            "20/20 [==============================] - 0s 3ms/step - loss: 0.5243 - acc: 0.7655 - val_loss: 0.4737 - val_acc: 0.7727\n",
            "Epoch 8/100\n",
            "20/20 [==============================] - 0s 4ms/step - loss: 0.5020 - acc: 0.7655 - val_loss: 0.4771 - val_acc: 0.7662\n",
            "Epoch 9/100\n",
            "20/20 [==============================] - 0s 3ms/step - loss: 0.4973 - acc: 0.7850 - val_loss: 0.4821 - val_acc: 0.7857\n",
            "Epoch 10/100\n",
            "20/20 [==============================] - 0s 3ms/step - loss: 0.4900 - acc: 0.7785 - val_loss: 0.4775 - val_acc: 0.7792\n",
            "Epoch 11/100\n",
            "20/20 [==============================] - 0s 3ms/step - loss: 0.4998 - acc: 0.7704 - val_loss: 0.4746 - val_acc: 0.7662\n",
            "Epoch 12/100\n",
            "20/20 [==============================] - 0s 3ms/step - loss: 0.5013 - acc: 0.7704 - val_loss: 0.4763 - val_acc: 0.7727\n",
            "Epoch 13/100\n",
            "20/20 [==============================] - 0s 3ms/step - loss: 0.5141 - acc: 0.7492 - val_loss: 0.4658 - val_acc: 0.7922\n",
            "Epoch 14/100\n",
            "20/20 [==============================] - 0s 3ms/step - loss: 0.5183 - acc: 0.7524 - val_loss: 0.5162 - val_acc: 0.7468\n",
            "Epoch 15/100\n",
            "20/20 [==============================] - 0s 3ms/step - loss: 0.5044 - acc: 0.7638 - val_loss: 0.4824 - val_acc: 0.7857\n",
            "Epoch 16/100\n",
            "20/20 [==============================] - 0s 3ms/step - loss: 0.4972 - acc: 0.7606 - val_loss: 0.4669 - val_acc: 0.7792\n",
            "Epoch 17/100\n",
            "20/20 [==============================] - 0s 3ms/step - loss: 0.5241 - acc: 0.7590 - val_loss: 0.5465 - val_acc: 0.7078\n",
            "Epoch 18/100\n",
            "20/20 [==============================] - 0s 4ms/step - loss: 0.5305 - acc: 0.7459 - val_loss: 0.4853 - val_acc: 0.7532\n",
            "Epoch 19/100\n",
            "20/20 [==============================] - 0s 3ms/step - loss: 0.5062 - acc: 0.7573 - val_loss: 0.4664 - val_acc: 0.8052\n",
            "Epoch 20/100\n",
            "20/20 [==============================] - 0s 3ms/step - loss: 0.5182 - acc: 0.7720 - val_loss: 0.4741 - val_acc: 0.7727\n",
            "Epoch 21/100\n",
            "20/20 [==============================] - 0s 2ms/step - loss: 0.5008 - acc: 0.7557 - val_loss: 0.4717 - val_acc: 0.7727\n",
            "Epoch 22/100\n",
            "20/20 [==============================] - 0s 3ms/step - loss: 0.5046 - acc: 0.7704 - val_loss: 0.4875 - val_acc: 0.7597\n",
            "Epoch 23/100\n",
            "20/20 [==============================] - 0s 4ms/step - loss: 0.5019 - acc: 0.7704 - val_loss: 0.5270 - val_acc: 0.7078\n",
            "Epoch 24/100\n",
            "20/20 [==============================] - 0s 3ms/step - loss: 0.5181 - acc: 0.7606 - val_loss: 0.4651 - val_acc: 0.7987\n",
            "Epoch 25/100\n",
            "20/20 [==============================] - 0s 4ms/step - loss: 0.5101 - acc: 0.7622 - val_loss: 0.4818 - val_acc: 0.7662\n",
            "Epoch 26/100\n",
            "20/20 [==============================] - 0s 4ms/step - loss: 0.5058 - acc: 0.7720 - val_loss: 0.4899 - val_acc: 0.7532\n",
            "Epoch 27/100\n",
            "20/20 [==============================] - 0s 3ms/step - loss: 0.4948 - acc: 0.7850 - val_loss: 0.4710 - val_acc: 0.7922\n",
            "Epoch 28/100\n",
            "20/20 [==============================] - 0s 4ms/step - loss: 0.5303 - acc: 0.7508 - val_loss: 0.4788 - val_acc: 0.7857\n",
            "Epoch 29/100\n",
            "20/20 [==============================] - 0s 3ms/step - loss: 0.5220 - acc: 0.7655 - val_loss: 0.5085 - val_acc: 0.7403\n",
            "Epoch 30/100\n",
            "20/20 [==============================] - 0s 4ms/step - loss: 0.5130 - acc: 0.7524 - val_loss: 0.4829 - val_acc: 0.7727\n",
            "Epoch 31/100\n",
            "20/20 [==============================] - 0s 3ms/step - loss: 0.5017 - acc: 0.7671 - val_loss: 0.4878 - val_acc: 0.7597\n",
            "Epoch 32/100\n",
            "20/20 [==============================] - 0s 3ms/step - loss: 0.5082 - acc: 0.7541 - val_loss: 0.4936 - val_acc: 0.7792\n",
            "Epoch 33/100\n",
            "20/20 [==============================] - 0s 4ms/step - loss: 0.5108 - acc: 0.7590 - val_loss: 0.4772 - val_acc: 0.7727\n",
            "Epoch 34/100\n",
            "20/20 [==============================] - 0s 3ms/step - loss: 0.4970 - acc: 0.7590 - val_loss: 0.4762 - val_acc: 0.7922\n",
            "Epoch 35/100\n",
            "20/20 [==============================] - 0s 3ms/step - loss: 0.5163 - acc: 0.7638 - val_loss: 0.4611 - val_acc: 0.7857\n",
            "Epoch 36/100\n",
            "20/20 [==============================] - 0s 3ms/step - loss: 0.5099 - acc: 0.7622 - val_loss: 0.4747 - val_acc: 0.7727\n",
            "Epoch 37/100\n",
            "20/20 [==============================] - 0s 3ms/step - loss: 0.5027 - acc: 0.7655 - val_loss: 0.5074 - val_acc: 0.7792\n",
            "Epoch 38/100\n",
            "20/20 [==============================] - 0s 3ms/step - loss: 0.5162 - acc: 0.7508 - val_loss: 0.4867 - val_acc: 0.7857\n",
            "Epoch 39/100\n",
            "20/20 [==============================] - 0s 4ms/step - loss: 0.5022 - acc: 0.7638 - val_loss: 0.4679 - val_acc: 0.7792\n",
            "Epoch 40/100\n",
            "20/20 [==============================] - 0s 3ms/step - loss: 0.5161 - acc: 0.7622 - val_loss: 0.5104 - val_acc: 0.7857\n",
            "Epoch 41/100\n",
            "20/20 [==============================] - 0s 3ms/step - loss: 0.5019 - acc: 0.7622 - val_loss: 0.5032 - val_acc: 0.7532\n",
            "Epoch 42/100\n",
            "20/20 [==============================] - 0s 3ms/step - loss: 0.5052 - acc: 0.7769 - val_loss: 0.4721 - val_acc: 0.7922\n",
            "Epoch 43/100\n",
            "20/20 [==============================] - 0s 4ms/step - loss: 0.5130 - acc: 0.7736 - val_loss: 0.4754 - val_acc: 0.8117\n",
            "Epoch 44/100\n",
            "20/20 [==============================] - 0s 3ms/step - loss: 0.5023 - acc: 0.7671 - val_loss: 0.4724 - val_acc: 0.7468\n",
            "Epoch 45/100\n",
            "20/20 [==============================] - 0s 3ms/step - loss: 0.5189 - acc: 0.7687 - val_loss: 0.4834 - val_acc: 0.7532\n",
            "Epoch 46/100\n",
            "20/20 [==============================] - 0s 3ms/step - loss: 0.5007 - acc: 0.7671 - val_loss: 0.5010 - val_acc: 0.7597\n",
            "Epoch 47/100\n",
            "20/20 [==============================] - 0s 4ms/step - loss: 0.5010 - acc: 0.7492 - val_loss: 0.4935 - val_acc: 0.7662\n",
            "Epoch 48/100\n",
            "20/20 [==============================] - 0s 3ms/step - loss: 0.4944 - acc: 0.7720 - val_loss: 0.4983 - val_acc: 0.7468\n",
            "Epoch 49/100\n",
            "20/20 [==============================] - 0s 3ms/step - loss: 0.5213 - acc: 0.7557 - val_loss: 0.4657 - val_acc: 0.8052\n",
            "Epoch 50/100\n",
            "20/20 [==============================] - 0s 4ms/step - loss: 0.5012 - acc: 0.7752 - val_loss: 0.4753 - val_acc: 0.7662\n",
            "Epoch 51/100\n",
            "20/20 [==============================] - 0s 3ms/step - loss: 0.5048 - acc: 0.7655 - val_loss: 0.4733 - val_acc: 0.7792\n",
            "Epoch 52/100\n",
            "20/20 [==============================] - 0s 5ms/step - loss: 0.4967 - acc: 0.7687 - val_loss: 0.4817 - val_acc: 0.7662\n",
            "Epoch 53/100\n",
            "20/20 [==============================] - 0s 3ms/step - loss: 0.5070 - acc: 0.7785 - val_loss: 0.4861 - val_acc: 0.7727\n",
            "Epoch 54/100\n",
            "20/20 [==============================] - 0s 3ms/step - loss: 0.4970 - acc: 0.7590 - val_loss: 0.4763 - val_acc: 0.7987\n",
            "Epoch 55/100\n",
            "20/20 [==============================] - 0s 3ms/step - loss: 0.5058 - acc: 0.7590 - val_loss: 0.4752 - val_acc: 0.7727\n",
            "Epoch 56/100\n",
            "20/20 [==============================] - 0s 3ms/step - loss: 0.5019 - acc: 0.7704 - val_loss: 0.5474 - val_acc: 0.7143\n",
            "Epoch 57/100\n",
            "20/20 [==============================] - 0s 3ms/step - loss: 0.5392 - acc: 0.7557 - val_loss: 0.4745 - val_acc: 0.7857\n",
            "Epoch 58/100\n",
            "20/20 [==============================] - 0s 3ms/step - loss: 0.4942 - acc: 0.7720 - val_loss: 0.4818 - val_acc: 0.7597\n",
            "Epoch 59/100\n",
            "20/20 [==============================] - 0s 3ms/step - loss: 0.5265 - acc: 0.7459 - val_loss: 0.4619 - val_acc: 0.7727\n",
            "Epoch 60/100\n",
            "20/20 [==============================] - 0s 2ms/step - loss: 0.5134 - acc: 0.7671 - val_loss: 0.5082 - val_acc: 0.7987\n",
            "Epoch 61/100\n",
            "20/20 [==============================] - 0s 4ms/step - loss: 0.5131 - acc: 0.7476 - val_loss: 0.4727 - val_acc: 0.7857\n",
            "Epoch 62/100\n",
            "20/20 [==============================] - 0s 3ms/step - loss: 0.5128 - acc: 0.7687 - val_loss: 0.4858 - val_acc: 0.7792\n",
            "Epoch 63/100\n",
            "20/20 [==============================] - 0s 3ms/step - loss: 0.5072 - acc: 0.7801 - val_loss: 0.5388 - val_acc: 0.7208\n",
            "Epoch 64/100\n",
            "20/20 [==============================] - 0s 3ms/step - loss: 0.5472 - acc: 0.7459 - val_loss: 0.4774 - val_acc: 0.7857\n",
            "Epoch 65/100\n",
            "20/20 [==============================] - 0s 3ms/step - loss: 0.5102 - acc: 0.7524 - val_loss: 0.4753 - val_acc: 0.7857\n",
            "Epoch 66/100\n",
            "20/20 [==============================] - 0s 3ms/step - loss: 0.5119 - acc: 0.7573 - val_loss: 0.4890 - val_acc: 0.7532\n",
            "Epoch 67/100\n",
            "20/20 [==============================] - 0s 3ms/step - loss: 0.5051 - acc: 0.7818 - val_loss: 0.5382 - val_acc: 0.7143\n",
            "Epoch 68/100\n",
            "20/20 [==============================] - 0s 4ms/step - loss: 0.5446 - acc: 0.7394 - val_loss: 0.4828 - val_acc: 0.7532\n",
            "Epoch 69/100\n",
            "20/20 [==============================] - 0s 3ms/step - loss: 0.5085 - acc: 0.7752 - val_loss: 0.4775 - val_acc: 0.7727\n",
            "Epoch 70/100\n",
            "20/20 [==============================] - 0s 3ms/step - loss: 0.5049 - acc: 0.7622 - val_loss: 0.4986 - val_acc: 0.7532\n",
            "Epoch 71/100\n",
            "20/20 [==============================] - 0s 3ms/step - loss: 0.5430 - acc: 0.7476 - val_loss: 0.4836 - val_acc: 0.7727\n",
            "Epoch 72/100\n",
            "20/20 [==============================] - 0s 4ms/step - loss: 0.5017 - acc: 0.7590 - val_loss: 0.4700 - val_acc: 0.7662\n",
            "Epoch 73/100\n",
            "20/20 [==============================] - 0s 3ms/step - loss: 0.5088 - acc: 0.7590 - val_loss: 0.4721 - val_acc: 0.7792\n",
            "Epoch 74/100\n",
            "20/20 [==============================] - 0s 4ms/step - loss: 0.5103 - acc: 0.7622 - val_loss: 0.4875 - val_acc: 0.7922\n",
            "Epoch 75/100\n",
            "20/20 [==============================] - 0s 3ms/step - loss: 0.5036 - acc: 0.7606 - val_loss: 0.4801 - val_acc: 0.7857\n",
            "Epoch 76/100\n",
            "20/20 [==============================] - 0s 3ms/step - loss: 0.4943 - acc: 0.7720 - val_loss: 0.4935 - val_acc: 0.7338\n",
            "Epoch 77/100\n",
            "20/20 [==============================] - 0s 3ms/step - loss: 0.5210 - acc: 0.7606 - val_loss: 0.4921 - val_acc: 0.7662\n",
            "Epoch 78/100\n",
            "20/20 [==============================] - 0s 3ms/step - loss: 0.5083 - acc: 0.7508 - val_loss: 0.4909 - val_acc: 0.7727\n",
            "Epoch 79/100\n",
            "20/20 [==============================] - 0s 3ms/step - loss: 0.5011 - acc: 0.7655 - val_loss: 0.5264 - val_acc: 0.7143\n",
            "Epoch 80/100\n",
            "20/20 [==============================] - 0s 4ms/step - loss: 0.5351 - acc: 0.7524 - val_loss: 0.4689 - val_acc: 0.7727\n",
            "Epoch 81/100\n",
            "20/20 [==============================] - 0s 3ms/step - loss: 0.5237 - acc: 0.7427 - val_loss: 0.4845 - val_acc: 0.7532\n",
            "Epoch 82/100\n",
            "20/20 [==============================] - 0s 3ms/step - loss: 0.5083 - acc: 0.7541 - val_loss: 0.4872 - val_acc: 0.7403\n",
            "Epoch 83/100\n",
            "20/20 [==============================] - 0s 3ms/step - loss: 0.5056 - acc: 0.7606 - val_loss: 0.4834 - val_acc: 0.7597\n",
            "Epoch 84/100\n",
            "20/20 [==============================] - 0s 3ms/step - loss: 0.5079 - acc: 0.7671 - val_loss: 0.4850 - val_acc: 0.7597\n",
            "Epoch 85/100\n",
            "20/20 [==============================] - 0s 3ms/step - loss: 0.5662 - acc: 0.7296 - val_loss: 0.4734 - val_acc: 0.7792\n",
            "Epoch 86/100\n",
            "20/20 [==============================] - 0s 3ms/step - loss: 0.5081 - acc: 0.7638 - val_loss: 0.5564 - val_acc: 0.6948\n",
            "Epoch 87/100\n",
            "20/20 [==============================] - 0s 3ms/step - loss: 0.5194 - acc: 0.7590 - val_loss: 0.4572 - val_acc: 0.7857\n",
            "Epoch 88/100\n",
            "20/20 [==============================] - 0s 4ms/step - loss: 0.5089 - acc: 0.7557 - val_loss: 0.4712 - val_acc: 0.7792\n",
            "Epoch 89/100\n",
            "20/20 [==============================] - 0s 3ms/step - loss: 0.5269 - acc: 0.7524 - val_loss: 0.5311 - val_acc: 0.7338\n",
            "Epoch 90/100\n",
            "20/20 [==============================] - 0s 3ms/step - loss: 0.5116 - acc: 0.7590 - val_loss: 0.4703 - val_acc: 0.7922\n",
            "Epoch 91/100\n",
            "20/20 [==============================] - 0s 3ms/step - loss: 0.5042 - acc: 0.7638 - val_loss: 0.4713 - val_acc: 0.7792\n",
            "Epoch 92/100\n",
            "20/20 [==============================] - 0s 3ms/step - loss: 0.5077 - acc: 0.7671 - val_loss: 0.4903 - val_acc: 0.7597\n",
            "Epoch 93/100\n",
            "20/20 [==============================] - 0s 3ms/step - loss: 0.4987 - acc: 0.7704 - val_loss: 0.4562 - val_acc: 0.7857\n",
            "Epoch 94/100\n",
            "20/20 [==============================] - 0s 3ms/step - loss: 0.5046 - acc: 0.7720 - val_loss: 0.4786 - val_acc: 0.7857\n",
            "Epoch 95/100\n",
            "20/20 [==============================] - 0s 3ms/step - loss: 0.4962 - acc: 0.7622 - val_loss: 0.4720 - val_acc: 0.7662\n",
            "Epoch 96/100\n",
            "20/20 [==============================] - 0s 3ms/step - loss: 0.5027 - acc: 0.7704 - val_loss: 0.4897 - val_acc: 0.7662\n",
            "Epoch 97/100\n",
            "20/20 [==============================] - 0s 3ms/step - loss: 0.5667 - acc: 0.7378 - val_loss: 0.4991 - val_acc: 0.7727\n",
            "Epoch 98/100\n",
            "20/20 [==============================] - 0s 3ms/step - loss: 0.5334 - acc: 0.7524 - val_loss: 0.5226 - val_acc: 0.7468\n",
            "Epoch 99/100\n",
            "20/20 [==============================] - 0s 4ms/step - loss: 0.5143 - acc: 0.7573 - val_loss: 0.4874 - val_acc: 0.7987\n",
            "Epoch 100/100\n",
            "20/20 [==============================] - 0s 3ms/step - loss: 0.5349 - acc: 0.7557 - val_loss: 0.4728 - val_acc: 0.7792\n"
          ],
          "name": "stdout"
        },
        {
          "output_type": "execute_result",
          "data": {
            "text/plain": [
              "<tensorflow.python.keras.callbacks.History at 0x7f14969d0c50>"
            ]
          },
          "metadata": {
            "tags": []
          },
          "execution_count": 21
        }
      ]
    },
    {
      "cell_type": "code",
      "metadata": {
        "id": "jp6hgicXP0j2"
      },
      "source": [
        "\n"
      ],
      "execution_count": null,
      "outputs": []
    }
  ]
}