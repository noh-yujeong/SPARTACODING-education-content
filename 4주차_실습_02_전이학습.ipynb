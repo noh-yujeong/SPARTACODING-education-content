{
  "nbformat": 4,
  "nbformat_minor": 0,
  "metadata": {
    "accelerator": "GPU",
    "colab": {
      "name": "4주차_실습_02_전이학습.ipynb",
      "provenance": [],
      "collapsed_sections": [],
      "authorship_tag": "ABX9TyNuYhmYCmKwgh6zY/1jfE9f",
      "include_colab_link": true
    },
    "kernelspec": {
      "display_name": "Python 3",
      "name": "python3"
    },
    "language_info": {
      "name": "python"
    }
  },
  "cells": [
    {
      "cell_type": "markdown",
      "metadata": {
        "id": "view-in-github",
        "colab_type": "text"
      },
      "source": [
        "<a href=\"https://colab.research.google.com/github/noh-yujeong/SPARTACODING_education_content/blob/main/4%EC%A3%BC%EC%B0%A8_%EC%8B%A4%EC%8A%B5_02_%EC%A0%84%EC%9D%B4%ED%95%99%EC%8A%B5.ipynb\" target=\"_parent\"><img src=\"https://colab.research.google.com/assets/colab-badge.svg\" alt=\"Open In Colab\"/></a>"
      ]
    },
    {
      "cell_type": "code",
      "metadata": {
        "id": "sGMZasvqoU5T"
      },
      "source": [
        "import os\n",
        "os.environ['KAGGLE_USERNAME']='yujeongnoh'\n",
        "os.environ['KAGGLE_KEY']='f1f98ae96b1b8d5a2f0bcee2be4fd59e'"
      ],
      "execution_count": null,
      "outputs": []
    },
    {
      "cell_type": "code",
      "metadata": {
        "colab": {
          "base_uri": "https://localhost:8080/"
        },
        "id": "zzsVJ4YAozkn",
        "outputId": "d3b605f0-f987-4ef3-8818-abd2e552aa57"
      },
      "source": [
        "#1. 데이터 셋 다운로드하기\n",
        "!kaggle datasets download -d moltean/fruits\n",
        "!unzip -q fruits.zip"
      ],
      "execution_count": null,
      "outputs": [
        {
          "output_type": "stream",
          "text": [
            "Downloading fruits.zip to /content\n",
            " 97% 737M/760M [00:07<00:00, 148MB/s]\n",
            "100% 760M/760M [00:07<00:00, 110MB/s]\n"
          ],
          "name": "stdout"
        }
      ]
    },
    {
      "cell_type": "code",
      "metadata": {
        "id": "Dc53B715pAHX"
      },
      "source": [
        "#2. 필요한 Package importing하기\n",
        "from tensorflow.keras.models import Model\n",
        "from tensorflow.keras.layers import Input, Dense, MaxPooling2D, Flatten, Dropout\n",
        "from tensorflow.keras.optimizers import Adam, SGD\n",
        "from tensorflow.keras.preprocessing.image import ImageDataGenerator\n",
        "\n",
        "import numpy as np\n",
        "import pandas as pd\n",
        "import matplotlib.pyplot as plt\n",
        "import seaborn as sns\n",
        "from sklearn.model_selection import train_test_split\n",
        "from sklearn.preprocessing import StandardScaler\n",
        "from sklearn.preprocessing import OneHotEncoder"
      ],
      "execution_count": null,
      "outputs": []
    },
    {
      "cell_type": "code",
      "metadata": {
        "colab": {
          "base_uri": "https://localhost:8080/"
        },
        "id": "wXh5RSxz-bof",
        "outputId": "1b721603-5a69-4b1d-af82-ec532f2e4441"
      },
      "source": [
        "#3. 전처리\n",
        "### 폴더에서 직접 데이터를 가져와서 증강기법까지 써보기###\n",
        "\n",
        "train_datagen=ImageDataGenerator(\n",
        "    rescale=1./255,\n",
        "    rotation_range=10,\n",
        "    zoom_range=0.1,\n",
        "    width_shift_range=0.1,\n",
        "    height_shift_range=0.1,\n",
        "    horizontal_flip=True\n",
        ")\n",
        "\n",
        "\n",
        "test_datagen=ImageDataGenerator(\n",
        "    rescale=1./255\n",
        ")\n",
        "\n",
        "train_gen=train_datagen.flow_from_directory(\n",
        "    'fruits-360/Training',\n",
        "    target_size=(224,224),\n",
        "    batch_size=32,\n",
        "    seed=2021,\n",
        "    class_mode='categorical',\n",
        "    shuffle=True\n",
        ")\n",
        "\n",
        "test_gen=test_datagen.flow_from_directory(\n",
        "   'fruits-360/Test',\n",
        "    target_size=(224,224),\n",
        "    batch_size=32,\n",
        "    seed=2021,\n",
        "    class_mode='categorical',\n",
        "    shuffle=False\n",
        ")"
      ],
      "execution_count": null,
      "outputs": [
        {
          "output_type": "stream",
          "text": [
            "Found 67692 images belonging to 131 classes.\n",
            "Found 22688 images belonging to 131 classes.\n"
          ],
          "name": "stdout"
        }
      ]
    },
    {
      "cell_type": "code",
      "metadata": {
        "colab": {
          "base_uri": "https://localhost:8080/",
          "height": 1000
        },
        "id": "7eay-K3wATYp",
        "outputId": "db6959d8-d5a5-4522-dbef-17cbeeb5a23d"
      },
      "source": [
        "#4. data 확인\n",
        "\n",
        "from pprint import pprint\n",
        "\n",
        "pprint(train_gen.class_indices)\n",
        "\n",
        "preview_batch=train_gen.__getitem__(0)\n",
        "preview_imgs, preview_labels=preview_batch\n",
        "\n",
        "plt.title(str(preview_labels[0]))\n",
        "plt.imshow(preview_imgs[0])"
      ],
      "execution_count": null,
      "outputs": [
        {
          "output_type": "stream",
          "text": [
            "{'Apple Braeburn': 0,\n",
            " 'Apple Crimson Snow': 1,\n",
            " 'Apple Golden 1': 2,\n",
            " 'Apple Golden 2': 3,\n",
            " 'Apple Golden 3': 4,\n",
            " 'Apple Granny Smith': 5,\n",
            " 'Apple Pink Lady': 6,\n",
            " 'Apple Red 1': 7,\n",
            " 'Apple Red 2': 8,\n",
            " 'Apple Red 3': 9,\n",
            " 'Apple Red Delicious': 10,\n",
            " 'Apple Red Yellow 1': 11,\n",
            " 'Apple Red Yellow 2': 12,\n",
            " 'Apricot': 13,\n",
            " 'Avocado': 14,\n",
            " 'Avocado ripe': 15,\n",
            " 'Banana': 16,\n",
            " 'Banana Lady Finger': 17,\n",
            " 'Banana Red': 18,\n",
            " 'Beetroot': 19,\n",
            " 'Blueberry': 20,\n",
            " 'Cactus fruit': 21,\n",
            " 'Cantaloupe 1': 22,\n",
            " 'Cantaloupe 2': 23,\n",
            " 'Carambula': 24,\n",
            " 'Cauliflower': 25,\n",
            " 'Cherry 1': 26,\n",
            " 'Cherry 2': 27,\n",
            " 'Cherry Rainier': 28,\n",
            " 'Cherry Wax Black': 29,\n",
            " 'Cherry Wax Red': 30,\n",
            " 'Cherry Wax Yellow': 31,\n",
            " 'Chestnut': 32,\n",
            " 'Clementine': 33,\n",
            " 'Cocos': 34,\n",
            " 'Corn': 35,\n",
            " 'Corn Husk': 36,\n",
            " 'Cucumber Ripe': 37,\n",
            " 'Cucumber Ripe 2': 38,\n",
            " 'Dates': 39,\n",
            " 'Eggplant': 40,\n",
            " 'Fig': 41,\n",
            " 'Ginger Root': 42,\n",
            " 'Granadilla': 43,\n",
            " 'Grape Blue': 44,\n",
            " 'Grape Pink': 45,\n",
            " 'Grape White': 46,\n",
            " 'Grape White 2': 47,\n",
            " 'Grape White 3': 48,\n",
            " 'Grape White 4': 49,\n",
            " 'Grapefruit Pink': 50,\n",
            " 'Grapefruit White': 51,\n",
            " 'Guava': 52,\n",
            " 'Hazelnut': 53,\n",
            " 'Huckleberry': 54,\n",
            " 'Kaki': 55,\n",
            " 'Kiwi': 56,\n",
            " 'Kohlrabi': 57,\n",
            " 'Kumquats': 58,\n",
            " 'Lemon': 59,\n",
            " 'Lemon Meyer': 60,\n",
            " 'Limes': 61,\n",
            " 'Lychee': 62,\n",
            " 'Mandarine': 63,\n",
            " 'Mango': 64,\n",
            " 'Mango Red': 65,\n",
            " 'Mangostan': 66,\n",
            " 'Maracuja': 67,\n",
            " 'Melon Piel de Sapo': 68,\n",
            " 'Mulberry': 69,\n",
            " 'Nectarine': 70,\n",
            " 'Nectarine Flat': 71,\n",
            " 'Nut Forest': 72,\n",
            " 'Nut Pecan': 73,\n",
            " 'Onion Red': 74,\n",
            " 'Onion Red Peeled': 75,\n",
            " 'Onion White': 76,\n",
            " 'Orange': 77,\n",
            " 'Papaya': 78,\n",
            " 'Passion Fruit': 79,\n",
            " 'Peach': 80,\n",
            " 'Peach 2': 81,\n",
            " 'Peach Flat': 82,\n",
            " 'Pear': 83,\n",
            " 'Pear 2': 84,\n",
            " 'Pear Abate': 85,\n",
            " 'Pear Forelle': 86,\n",
            " 'Pear Kaiser': 87,\n",
            " 'Pear Monster': 88,\n",
            " 'Pear Red': 89,\n",
            " 'Pear Stone': 90,\n",
            " 'Pear Williams': 91,\n",
            " 'Pepino': 92,\n",
            " 'Pepper Green': 93,\n",
            " 'Pepper Orange': 94,\n",
            " 'Pepper Red': 95,\n",
            " 'Pepper Yellow': 96,\n",
            " 'Physalis': 97,\n",
            " 'Physalis with Husk': 98,\n",
            " 'Pineapple': 99,\n",
            " 'Pineapple Mini': 100,\n",
            " 'Pitahaya Red': 101,\n",
            " 'Plum': 102,\n",
            " 'Plum 2': 103,\n",
            " 'Plum 3': 104,\n",
            " 'Pomegranate': 105,\n",
            " 'Pomelo Sweetie': 106,\n",
            " 'Potato Red': 107,\n",
            " 'Potato Red Washed': 108,\n",
            " 'Potato Sweet': 109,\n",
            " 'Potato White': 110,\n",
            " 'Quince': 111,\n",
            " 'Rambutan': 112,\n",
            " 'Raspberry': 113,\n",
            " 'Redcurrant': 114,\n",
            " 'Salak': 115,\n",
            " 'Strawberry': 116,\n",
            " 'Strawberry Wedge': 117,\n",
            " 'Tamarillo': 118,\n",
            " 'Tangelo': 119,\n",
            " 'Tomato 1': 120,\n",
            " 'Tomato 2': 121,\n",
            " 'Tomato 3': 122,\n",
            " 'Tomato 4': 123,\n",
            " 'Tomato Cherry Red': 124,\n",
            " 'Tomato Heart': 125,\n",
            " 'Tomato Maroon': 126,\n",
            " 'Tomato Yellow': 127,\n",
            " 'Tomato not Ripened': 128,\n",
            " 'Walnut': 129,\n",
            " 'Watermelon': 130}\n"
          ],
          "name": "stdout"
        },
        {
          "output_type": "execute_result",
          "data": {
            "text/plain": [
              "<matplotlib.image.AxesImage at 0x7efc55ea6cd0>"
            ]
          },
          "metadata": {
            "tags": []
          },
          "execution_count": 6
        },
        {
          "output_type": "display_data",
          "data": {
            "image/png": "[encoded data removed]",
            "text/plain": [
              "<Figure size 432x288 with 1 Axes>"
            ]
          },
          "metadata": {
            "tags": []
          }
        }
      ]
    },
    {
      "cell_type": "code",
      "metadata": {
        "colab": {
          "base_uri": "https://localhost:8080/"
        },
        "id": "Vhvg7OyRBONd",
        "outputId": "d4d75331-fbef-497a-d587-1b396c0827ea"
      },
      "source": [
        "#5. 전이학습(모델가져와서 수정)\n",
        "\n",
        "from tensorflow.keras.applications.inception_v3 import InceptionV3\n",
        "\n",
        "input=Input(shape=(224,224,3))\n",
        "\n",
        "base_model=InceptionV3(weights='imagenet',include_top=False,input_tensor=input,pooling='max')\n",
        "\n",
        "x=base_model.output\n",
        "x=Dropout(rate=0.25)(x)\n",
        "x=Dense(256,activation='relu')(x)\n",
        "output=Dense(131,activation='softmax')(x)\n",
        "model=Model(inputs=base_model.input,outputs=output)\n",
        "model.compile(loss='categorical_crossentropy',optimizer=Adam(lr=0.001),metrics=['acc'])\n"
      ],
      "execution_count": null,
      "outputs": [
        {
          "output_type": "stream",
          "text": [
            "Downloading data from https://storage.googleapis.com/tensorflow/keras-applications/inception_v3/inception_v3_weights_tf_dim_ordering_tf_kernels_notop.h5\n",
            "87916544/87910968 [==============================] - 1s 0us/step\n"
          ],
          "name": "stdout"
        },
        {
          "output_type": "stream",
          "text": [
            "/usr/local/lib/python3.7/dist-packages/tensorflow/python/keras/optimizer_v2/optimizer_v2.py:375: UserWarning: The `lr` argument is deprecated, use `learning_rate` instead.\n",
            "  \"The `lr` argument is deprecated, use `learning_rate` instead.\")\n"
          ],
          "name": "stderr"
        }
      ]
    },
    {
      "cell_type": "code",
      "metadata": {
        "colab": {
          "background_save": true,
          "base_uri": "https://localhost:8080/"
        },
        "id": "1-WcadbpA04m",
        "outputId": "c5c03d09-1aac-4a69-a311-ebddc65fcc30"
      },
      "source": [
        "#6. 모델 학습\n",
        "from tensorflow.keras.callbacks import ModelCheckpoint\n",
        "\n",
        "history=model.fit(\n",
        "    train_gen,\n",
        "    validation_data=test_gen,\n",
        "    epochs=20,\n",
        "    callbacks=[\n",
        "               ModelCheckpoint('model.h5',monitor='val_acc',verbose=1,save_best_only=True)\n",
        "    ]\n",
        ")"
      ],
      "execution_count": null,
      "outputs": [
        {
          "output_type": "stream",
          "text": [
            "Epoch 1/20\n",
            "2116/2116 [==============================] - 982s 445ms/step - loss: 0.7789 - acc: 0.7931 - val_loss: 0.7946 - val_acc: 0.7761\n",
            "\n",
            "Epoch 00001: val_acc improved from -inf to 0.77609, saving model to model.h5\n",
            "Epoch 2/20\n",
            "1951/2116 [==========================>...] - ETA: 1:08 - loss: 0.1595 - acc: 0.9507"
          ],
          "name": "stdout"
        }
      ]
    },
    {
      "cell_type": "code",
      "metadata": {
        "id": "jX1CxriSCTW3"
      },
      "source": [
        "# 학습된 모델 로딩\n",
        "\n",
        "from tensorflow.keras.models import load_model\n",
        "model=load_model('model.h5')\n"
      ],
      "execution_count": null,
      "outputs": []
    },
    {
      "cell_type": "code",
      "metadata": {
        "id": "EXLWhuQhDXK7"
      },
      "source": [
        "#결과 확인\n",
        "\n",
        "test_imgs, test_labels=test_gen.__genitem__(100)\n",
        "y_pred=model.predict(test_imgs)\n",
        "classes=dict((v,k) for k,v in test_gen.class_indices.items())\n",
        "\n",
        "fig,axes=plt.subplots(4,8,figsize=(20,12))\n",
        "\n",
        "for img,test_label,pred_label,ax in zip(tesst_imgs,test_labels,y_pred,axes.flatten()):\n",
        "  test_label=classes[np.argmax(test_label)]\n",
        "  pred_label=classes[np.argmax(prd_label)]\n",
        "\n",
        "  ax.set_title('GT:%s\\nPR:%s'%(test_label,pred_label))\n",
        "  ax.imshow(img)"
      ],
      "execution_count": null,
      "outputs": []
    }
  ]
}