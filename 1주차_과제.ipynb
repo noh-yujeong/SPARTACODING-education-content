{
  "nbformat": 4,
  "nbformat_minor": 0,
  "metadata": {
    "colab": {
      "name": "1주차 과제.ipynb",
      "provenance": [],
      "authorship_tag": "ABX9TyNelpSc0I9+a0USsk4S6c3/",
      "include_colab_link": true
    },
    "kernelspec": {
      "name": "python3",
      "display_name": "Python 3"
    },
    "language_info": {
      "name": "python"
    }
  },
  "cells": [
    {
      "cell_type": "markdown",
      "metadata": {
        "id": "view-in-github",
        "colab_type": "text"
      },
      "source": [
        "<a href=\"https://colab.research.google.com/github/noh-yujeong/SPARTACODING-education-content/blob/main/1%EC%A3%BC%EC%B0%A8_%EA%B3%BC%EC%A0%9C.ipynb\" target=\"_parent\"><img src=\"https://colab.research.google.com/assets/colab-badge.svg\" alt=\"Open In Colab\"/></a>"
      ]
    },
    {
      "cell_type": "markdown",
      "metadata": {
        "id": "pu8qYa3xl8Q3"
      },
      "source": [
        "# **※ 1주차 과제**\n",
        "\n",
        "Q. 혼자서 선형회귀(linear regression) 구현하기\n",
        "-> 연차로 부터 연봉을 예측하기\n",
        "\n",
        "<<해야 할일>>\n",
        "\n",
        "1. 연차-연봉 데이터 셋 살펴보기\n",
        "2. learning rate(lr)를 바꾸면서 실험하기\n",
        "3. optimizer를 바꾸면서 실험하기\n",
        "4. loss를 mean_absolute_error로 바꿔서 실험하기\n"
      ]
    },
    {
      "cell_type": "code",
      "metadata": {
        "colab": {
          "base_uri": "https://localhost:8080/"
        },
        "id": "3BA-KDFGly21",
        "outputId": "8e60f8e2-3ef3-4abe-8ca7-ca5b0bdbb1b1"
      },
      "source": [
        "import os\n",
        "os.environ['KAGGLE_USERNAME']='yujeongnoh'\n",
        "os.environ['KAGGLE_KEY']='e08ae6a6c32627a2230ff95e90273590'\n",
        "!kaggle datasets download -d rsadiq/salary\n",
        "\n",
        "!unzip salary.zip\n"
      ],
      "execution_count": null,
      "outputs": [
        {
          "output_type": "stream",
          "text": [
            "Downloading salary.zip to /content\n",
            "\r  0% 0.00/392 [00:00<?, ?B/s]\n",
            "\r100% 392/392 [00:00<00:00, 650kB/s]\n",
            "Archive:  salary.zip\n",
            "  inflating: Salary.csv              \n"
          ],
          "name": "stdout"
        }
      ]
    },
    {
      "cell_type": "code",
      "metadata": {
        "id": "gCky4gp3mXYS",
        "colab": {
          "base_uri": "https://localhost:8080/"
        },
        "outputId": "881c881d-e971-4b3a-a8ab-f28e3d40a371"
      },
      "source": [
        "from tensorflow.keras.models import Sequential\n",
        "from tensorflow.keras.layers import Dense\n",
        "from tensorflow.keras.optimizers import Adam, SGD\n",
        "\n",
        "import numpy as np\n",
        "import pandas as pd\n",
        "import matplotlib.pyplot as plt\n",
        "import seaborn as sns\n",
        "from sklearn.model_selection import train_test_split\n",
        "\n",
        "df=pd.read_csv('Salary.csv')\n",
        "print(df.head(5))"
      ],
      "execution_count": null,
      "outputs": [
        {
          "output_type": "stream",
          "text": [
            "   YearsExperience  Salary\n",
            "0              1.1   39343\n",
            "1              1.3   46205\n",
            "2              1.5   37731\n",
            "3              2.0   43525\n",
            "4              2.2   39891\n"
          ],
          "name": "stdout"
        }
      ]
    },
    {
      "cell_type": "code",
      "metadata": {
        "colab": {
          "base_uri": "https://localhost:8080/"
        },
        "id": "YO6zKDVIUbM6",
        "outputId": "f70c34f6-4104-4278-c5a1-6b670371a352"
      },
      "source": [
        "x_data=np.array(df['YearsExperience'],dtype=np.float32)\n",
        "y_data=np.array(df['Salary'],dtype=np.float32)\n",
        "\n",
        "x_data=x_data.reshape((-1,1))\n",
        "y_data=y_data.reshape((-1,1))\n",
        "print(x_data.shape)\n",
        "print(y_data.shape)\n"
      ],
      "execution_count": null,
      "outputs": [
        {
          "output_type": "stream",
          "text": [
            "(35, 1)\n",
            "(35, 1)\n"
          ],
          "name": "stdout"
        }
      ]
    },
    {
      "cell_type": "code",
      "metadata": {
        "colab": {
          "base_uri": "https://localhost:8080/"
        },
        "id": "FvUe25xmV0-G",
        "outputId": "adca3c92-def3-46c6-d222-79283263c33a"
      },
      "source": [
        "x_train, x_val, y_train, y_val=train_test_split(x_data,y_data,test_size=0.2,random_state=2021)\n",
        "\n",
        "print(x_train.shape,x_val.shape)\n",
        "print(y_train.shape,y_val.shape)\n"
      ],
      "execution_count": null,
      "outputs": [
        {
          "output_type": "stream",
          "text": [
            "(28, 1) (7, 1)\n",
            "(28, 1) (7, 1)\n"
          ],
          "name": "stdout"
        }
      ]
    },
    {
      "cell_type": "code",
      "metadata": {
        "colab": {
          "base_uri": "https://localhost:8080/"
        },
        "id": "-1EY5nExcWiJ",
        "outputId": "0dc1bf45-6bcd-4b21-819f-fd11cf0eb782"
      },
      "source": [
        "model = Sequential([\n",
        "                     Dense(1)\n",
        "])\n",
        "\n",
        "model.compile(loss='mean_squared_error',optimizer=SGD(lr=0.01))\n",
        "\n",
        "model.fit(\n",
        "    x_train,\n",
        "    y_train,\n",
        "    validation_data=(x_val,y_val),\n",
        "    epochs=100\n",
        ")"
      ],
      "execution_count": null,
      "outputs": [
        {
          "output_type": "stream",
          "text": [
            "/usr/local/lib/python3.7/dist-packages/tensorflow/python/keras/optimizer_v2/optimizer_v2.py:375: UserWarning: The `lr` argument is deprecated, use `learning_rate` instead.\n",
            "  \"The `lr` argument is deprecated, use `learning_rate` instead.\")\n"
          ],
          "name": "stderr"
        },
        {
          "output_type": "stream",
          "text": [
            "Epoch 1/100\n",
            "1/1 [==============================] - 1s 690ms/step - loss: 8667399168.0000 - val_loss: 144188240.0000\n",
            "Epoch 2/100\n",
            "1/1 [==============================] - 0s 23ms/step - loss: 520608800.0000 - val_loss: 311875584.0000\n",
            "Epoch 3/100\n",
            "1/1 [==============================] - 0s 20ms/step - loss: 218536096.0000 - val_loss: 245428448.0000\n",
            "Epoch 4/100\n",
            "1/1 [==============================] - 0s 22ms/step - loss: 205774112.0000 - val_loss: 254774384.0000\n",
            "Epoch 5/100\n",
            "1/1 [==============================] - 0s 21ms/step - loss: 203696592.0000 - val_loss: 250785664.0000\n",
            "Epoch 6/100\n",
            "1/1 [==============================] - 0s 19ms/step - loss: 202028320.0000 - val_loss: 249410288.0000\n",
            "Epoch 7/100\n",
            "1/1 [==============================] - 0s 22ms/step - loss: 200390096.0000 - val_loss: 247556528.0000\n",
            "Epoch 8/100\n",
            "1/1 [==============================] - 0s 22ms/step - loss: 198767792.0000 - val_loss: 245814400.0000\n",
            "Epoch 9/100\n",
            "1/1 [==============================] - 0s 22ms/step - loss: 197160928.0000 - val_loss: 244070736.0000\n",
            "Epoch 10/100\n",
            "1/1 [==============================] - 0s 21ms/step - loss: 195569152.0000 - val_loss: 242346960.0000\n",
            "Epoch 11/100\n",
            "1/1 [==============================] - 0s 23ms/step - loss: 193992448.0000 - val_loss: 240638816.0000\n",
            "Epoch 12/100\n",
            "1/1 [==============================] - 0s 31ms/step - loss: 192430512.0000 - val_loss: 238946848.0000\n",
            "Epoch 13/100\n",
            "1/1 [==============================] - 0s 22ms/step - loss: 190883344.0000 - val_loss: 237271008.0000\n",
            "Epoch 14/100\n",
            "1/1 [==============================] - 0s 19ms/step - loss: 189350928.0000 - val_loss: 235610832.0000\n",
            "Epoch 15/100\n",
            "1/1 [==============================] - 0s 24ms/step - loss: 187832720.0000 - val_loss: 233966416.0000\n",
            "Epoch 16/100\n",
            "1/1 [==============================] - 0s 22ms/step - loss: 186329056.0000 - val_loss: 232337424.0000\n",
            "Epoch 17/100\n",
            "1/1 [==============================] - 0s 18ms/step - loss: 184839472.0000 - val_loss: 230723920.0000\n",
            "Epoch 18/100\n",
            "1/1 [==============================] - 0s 27ms/step - loss: 183363952.0000 - val_loss: 229125584.0000\n",
            "Epoch 19/100\n",
            "1/1 [==============================] - 0s 22ms/step - loss: 181902384.0000 - val_loss: 227542496.0000\n",
            "Epoch 20/100\n",
            "1/1 [==============================] - 0s 20ms/step - loss: 180454576.0000 - val_loss: 225974128.0000\n",
            "Epoch 21/100\n",
            "1/1 [==============================] - 0s 23ms/step - loss: 179020432.0000 - val_loss: 224420768.0000\n",
            "Epoch 22/100\n",
            "1/1 [==============================] - 0s 21ms/step - loss: 177599856.0000 - val_loss: 222882000.0000\n",
            "Epoch 23/100\n",
            "1/1 [==============================] - 0s 20ms/step - loss: 176192624.0000 - val_loss: 221357728.0000\n",
            "Epoch 24/100\n",
            "1/1 [==============================] - 0s 33ms/step - loss: 174798704.0000 - val_loss: 219847824.0000\n",
            "Epoch 25/100\n",
            "1/1 [==============================] - 0s 22ms/step - loss: 173417904.0000 - val_loss: 218352288.0000\n",
            "Epoch 26/100\n",
            "1/1 [==============================] - 0s 25ms/step - loss: 172050160.0000 - val_loss: 216870816.0000\n",
            "Epoch 27/100\n",
            "1/1 [==============================] - 0s 21ms/step - loss: 170695312.0000 - val_loss: 215403280.0000\n",
            "Epoch 28/100\n",
            "1/1 [==============================] - 0s 21ms/step - loss: 169353216.0000 - val_loss: 213949744.0000\n",
            "Epoch 29/100\n",
            "1/1 [==============================] - 0s 20ms/step - loss: 168023920.0000 - val_loss: 212509840.0000\n",
            "Epoch 30/100\n",
            "1/1 [==============================] - 0s 21ms/step - loss: 166706976.0000 - val_loss: 211083536.0000\n",
            "Epoch 31/100\n",
            "1/1 [==============================] - 0s 22ms/step - loss: 165402592.0000 - val_loss: 209670688.0000\n",
            "Epoch 32/100\n",
            "1/1 [==============================] - 0s 18ms/step - loss: 164110432.0000 - val_loss: 208271200.0000\n",
            "Epoch 33/100\n",
            "1/1 [==============================] - 0s 23ms/step - loss: 162830464.0000 - val_loss: 206884944.0000\n",
            "Epoch 34/100\n",
            "1/1 [==============================] - 0s 27ms/step - loss: 161562656.0000 - val_loss: 205511712.0000\n",
            "Epoch 35/100\n",
            "1/1 [==============================] - 0s 24ms/step - loss: 160306736.0000 - val_loss: 204151536.0000\n",
            "Epoch 36/100\n",
            "1/1 [==============================] - 0s 22ms/step - loss: 159062736.0000 - val_loss: 202804112.0000\n",
            "Epoch 37/100\n",
            "1/1 [==============================] - 0s 22ms/step - loss: 157830416.0000 - val_loss: 201469552.0000\n",
            "Epoch 38/100\n",
            "1/1 [==============================] - 0s 23ms/step - loss: 156609680.0000 - val_loss: 200147408.0000\n",
            "Epoch 39/100\n",
            "1/1 [==============================] - 0s 18ms/step - loss: 155400544.0000 - val_loss: 198838000.0000\n",
            "Epoch 40/100\n",
            "1/1 [==============================] - 0s 21ms/step - loss: 154202768.0000 - val_loss: 197540704.0000\n",
            "Epoch 41/100\n",
            "1/1 [==============================] - 0s 18ms/step - loss: 153016336.0000 - val_loss: 196255840.0000\n",
            "Epoch 42/100\n",
            "1/1 [==============================] - 0s 24ms/step - loss: 151841024.0000 - val_loss: 194982992.0000\n",
            "Epoch 43/100\n",
            "1/1 [==============================] - 0s 27ms/step - loss: 150676880.0000 - val_loss: 193722192.0000\n",
            "Epoch 44/100\n",
            "1/1 [==============================] - 0s 21ms/step - loss: 149523712.0000 - val_loss: 192473296.0000\n",
            "Epoch 45/100\n",
            "1/1 [==============================] - 0s 30ms/step - loss: 148381392.0000 - val_loss: 191236272.0000\n",
            "Epoch 46/100\n",
            "1/1 [==============================] - 0s 23ms/step - loss: 147249872.0000 - val_loss: 190010864.0000\n",
            "Epoch 47/100\n",
            "1/1 [==============================] - 0s 27ms/step - loss: 146128992.0000 - val_loss: 188797056.0000\n",
            "Epoch 48/100\n",
            "1/1 [==============================] - 0s 21ms/step - loss: 145018704.0000 - val_loss: 187594608.0000\n",
            "Epoch 49/100\n",
            "1/1 [==============================] - 0s 24ms/step - loss: 143918896.0000 - val_loss: 186403616.0000\n",
            "Epoch 50/100\n",
            "1/1 [==============================] - 0s 22ms/step - loss: 142829488.0000 - val_loss: 185223808.0000\n",
            "Epoch 51/100\n",
            "1/1 [==============================] - 0s 22ms/step - loss: 141750368.0000 - val_loss: 184055216.0000\n",
            "Epoch 52/100\n",
            "1/1 [==============================] - 0s 23ms/step - loss: 140681360.0000 - val_loss: 182897584.0000\n",
            "Epoch 53/100\n",
            "1/1 [==============================] - 0s 18ms/step - loss: 139622480.0000 - val_loss: 181750960.0000\n",
            "Epoch 54/100\n",
            "1/1 [==============================] - 0s 20ms/step - loss: 138573568.0000 - val_loss: 180615184.0000\n",
            "Epoch 55/100\n",
            "1/1 [==============================] - 0s 25ms/step - loss: 137534592.0000 - val_loss: 179490128.0000\n",
            "Epoch 56/100\n",
            "1/1 [==============================] - 0s 21ms/step - loss: 136505360.0000 - val_loss: 178375568.0000\n",
            "Epoch 57/100\n",
            "1/1 [==============================] - 0s 21ms/step - loss: 135485872.0000 - val_loss: 177271696.0000\n",
            "Epoch 58/100\n",
            "1/1 [==============================] - 0s 24ms/step - loss: 134476048.0000 - val_loss: 176178144.0000\n",
            "Epoch 59/100\n",
            "1/1 [==============================] - 0s 24ms/step - loss: 133475664.0000 - val_loss: 175094928.0000\n",
            "Epoch 60/100\n",
            "1/1 [==============================] - 0s 23ms/step - loss: 132484744.0000 - val_loss: 174021936.0000\n",
            "Epoch 61/100\n",
            "1/1 [==============================] - 0s 23ms/step - loss: 131503256.0000 - val_loss: 172959248.0000\n",
            "Epoch 62/100\n",
            "1/1 [==============================] - 0s 30ms/step - loss: 130530960.0000 - val_loss: 171906352.0000\n",
            "Epoch 63/100\n",
            "1/1 [==============================] - 0s 23ms/step - loss: 129567824.0000 - val_loss: 170863584.0000\n",
            "Epoch 64/100\n",
            "1/1 [==============================] - 0s 28ms/step - loss: 128613800.0000 - val_loss: 169830528.0000\n",
            "Epoch 65/100\n",
            "1/1 [==============================] - 0s 22ms/step - loss: 127668776.0000 - val_loss: 168807328.0000\n",
            "Epoch 66/100\n",
            "1/1 [==============================] - 0s 21ms/step - loss: 126732632.0000 - val_loss: 167793648.0000\n",
            "Epoch 67/100\n",
            "1/1 [==============================] - 0s 23ms/step - loss: 125805400.0000 - val_loss: 166789712.0000\n",
            "Epoch 68/100\n",
            "1/1 [==============================] - 0s 20ms/step - loss: 124886872.0000 - val_loss: 165795200.0000\n",
            "Epoch 69/100\n",
            "1/1 [==============================] - 0s 26ms/step - loss: 123977016.0000 - val_loss: 164810016.0000\n",
            "Epoch 70/100\n",
            "1/1 [==============================] - 0s 23ms/step - loss: 123075672.0000 - val_loss: 163834224.0000\n",
            "Epoch 71/100\n",
            "1/1 [==============================] - 0s 20ms/step - loss: 122182952.0000 - val_loss: 162867600.0000\n",
            "Epoch 72/100\n",
            "1/1 [==============================] - 0s 20ms/step - loss: 121298600.0000 - val_loss: 161910192.0000\n",
            "Epoch 73/100\n",
            "1/1 [==============================] - 0s 21ms/step - loss: 120422568.0000 - val_loss: 160961760.0000\n",
            "Epoch 74/100\n",
            "1/1 [==============================] - 0s 21ms/step - loss: 119554776.0000 - val_loss: 160022192.0000\n",
            "Epoch 75/100\n",
            "1/1 [==============================] - 0s 26ms/step - loss: 118695304.0000 - val_loss: 159091616.0000\n",
            "Epoch 76/100\n",
            "1/1 [==============================] - 0s 28ms/step - loss: 117843800.0000 - val_loss: 158169776.0000\n",
            "Epoch 77/100\n",
            "1/1 [==============================] - 0s 23ms/step - loss: 117000408.0000 - val_loss: 157256784.0000\n",
            "Epoch 78/100\n",
            "1/1 [==============================] - 0s 26ms/step - loss: 116164968.0000 - val_loss: 156352240.0000\n",
            "Epoch 79/100\n",
            "1/1 [==============================] - 0s 24ms/step - loss: 115337368.0000 - val_loss: 155456352.0000\n",
            "Epoch 80/100\n",
            "1/1 [==============================] - 0s 26ms/step - loss: 114517592.0000 - val_loss: 154568800.0000\n",
            "Epoch 81/100\n",
            "1/1 [==============================] - 0s 24ms/step - loss: 113705552.0000 - val_loss: 153689712.0000\n",
            "Epoch 82/100\n",
            "1/1 [==============================] - 0s 28ms/step - loss: 112901224.0000 - val_loss: 152818960.0000\n",
            "Epoch 83/100\n",
            "1/1 [==============================] - 0s 25ms/step - loss: 112104392.0000 - val_loss: 151956320.0000\n",
            "Epoch 84/100\n",
            "1/1 [==============================] - 0s 25ms/step - loss: 111315144.0000 - val_loss: 151101936.0000\n",
            "Epoch 85/100\n",
            "1/1 [==============================] - 0s 27ms/step - loss: 110533304.0000 - val_loss: 150255600.0000\n",
            "Epoch 86/100\n",
            "1/1 [==============================] - 0s 20ms/step - loss: 109758896.0000 - val_loss: 149417248.0000\n",
            "Epoch 87/100\n",
            "1/1 [==============================] - 0s 20ms/step - loss: 108991704.0000 - val_loss: 148586784.0000\n",
            "Epoch 88/100\n",
            "1/1 [==============================] - 0s 33ms/step - loss: 108231864.0000 - val_loss: 147764192.0000\n",
            "Epoch 89/100\n",
            "1/1 [==============================] - 0s 25ms/step - loss: 107479104.0000 - val_loss: 146949408.0000\n",
            "Epoch 90/100\n",
            "1/1 [==============================] - 0s 26ms/step - loss: 106733520.0000 - val_loss: 146142320.0000\n",
            "Epoch 91/100\n",
            "1/1 [==============================] - 0s 20ms/step - loss: 105994888.0000 - val_loss: 145342800.0000\n",
            "Epoch 92/100\n",
            "1/1 [==============================] - 0s 23ms/step - loss: 105263240.0000 - val_loss: 144550816.0000\n",
            "Epoch 93/100\n",
            "1/1 [==============================] - 0s 20ms/step - loss: 104538560.0000 - val_loss: 143766416.0000\n",
            "Epoch 94/100\n",
            "1/1 [==============================] - 0s 22ms/step - loss: 103820672.0000 - val_loss: 142989232.0000\n",
            "Epoch 95/100\n",
            "1/1 [==============================] - 0s 25ms/step - loss: 103109528.0000 - val_loss: 142219632.0000\n",
            "Epoch 96/100\n",
            "1/1 [==============================] - 0s 22ms/step - loss: 102405112.0000 - val_loss: 141457152.0000\n",
            "Epoch 97/100\n",
            "1/1 [==============================] - 0s 27ms/step - loss: 101707392.0000 - val_loss: 140701840.0000\n",
            "Epoch 98/100\n",
            "1/1 [==============================] - 0s 27ms/step - loss: 101016240.0000 - val_loss: 139953808.0000\n",
            "Epoch 99/100\n",
            "1/1 [==============================] - 0s 26ms/step - loss: 100331624.0000 - val_loss: 139212800.0000\n",
            "Epoch 100/100\n",
            "1/1 [==============================] - 0s 19ms/step - loss: 99653376.0000 - val_loss: 138478720.0000\n"
          ],
          "name": "stdout"
        },
        {
          "output_type": "execute_result",
          "data": {
            "text/plain": [
              "<tensorflow.python.keras.callbacks.History at 0x7ffaa68e9a50>"
            ]
          },
          "metadata": {
            "tags": []
          },
          "execution_count": 13
        }
      ]
    },
    {
      "cell_type": "code",
      "metadata": {
        "colab": {
          "base_uri": "https://localhost:8080/",
          "height": 265
        },
        "id": "oIyhSDJteKYc",
        "outputId": "248f9323-de33-452c-9b4b-147956acdd3c"
      },
      "source": [
        "y_pred=model.predict(x_val)\n",
        "\n",
        "plt.scatter(x_val,y_val)\n",
        "plt.scatter(x_val,y_pred,color='r')\n",
        "plt.show()"
      ],
      "execution_count": null,
      "outputs": [
        {
          "output_type": "display_data",
          "data": {
            "image/png": "[encoded data removed]",
            "text/plain": [
              "<Figure size 432x288 with 1 Axes>"
            ]
          },
          "metadata": {
            "tags": [],
            "needs_background": "light"
          }
        }
      ]
    },
    {
      "cell_type": "code",
      "metadata": {
        "colab": {
          "base_uri": "https://localhost:8080/"
        },
        "id": "s1GXMVftelGV",
        "outputId": "358270c3-6b81-40f6-a4f0-208367482e0c"
      },
      "source": [
        "model = Sequential([\n",
        "                     Dense(1)\n",
        "])\n",
        "\n",
        "model.compile(loss='mean_squared_error',optimizer=SGD(lr=0.01))\n",
        "\n",
        "model.fit(\n",
        "    x_train,\n",
        "    y_train,\n",
        "    validation_data=(x_val,y_val),\n",
        "    epochs=100\n",
        ")"
      ],
      "execution_count": null,
      "outputs": [
        {
          "output_type": "stream",
          "text": [
            "/usr/local/lib/python3.7/dist-packages/tensorflow/python/keras/optimizer_v2/optimizer_v2.py:375: UserWarning: The `lr` argument is deprecated, use `learning_rate` instead.\n",
            "  \"The `lr` argument is deprecated, use `learning_rate` instead.\")\n"
          ],
          "name": "stderr"
        },
        {
          "output_type": "stream",
          "text": [
            "Epoch 1/100\n",
            "1/1 [==============================] - 0s 319ms/step - loss: 8664190976.0000 - val_loss: 144183840.0000\n",
            "Epoch 2/100\n",
            "1/1 [==============================] - 0s 19ms/step - loss: 520494112.0000 - val_loss: 311868064.0000\n",
            "Epoch 3/100\n",
            "1/1 [==============================] - 0s 19ms/step - loss: 218535072.0000 - val_loss: 245433552.0000\n",
            "Epoch 4/100\n",
            "1/1 [==============================] - 0s 24ms/step - loss: 205777296.0000 - val_loss: 254777712.0000\n",
            "Epoch 5/100\n",
            "1/1 [==============================] - 0s 20ms/step - loss: 203699936.0000 - val_loss: 250789344.0000\n",
            "Epoch 6/100\n",
            "1/1 [==============================] - 0s 23ms/step - loss: 202031584.0000 - val_loss: 249413648.0000\n",
            "Epoch 7/100\n",
            "1/1 [==============================] - 0s 40ms/step - loss: 200393296.0000 - val_loss: 247560048.0000\n",
            "Epoch 8/100\n",
            "1/1 [==============================] - 0s 23ms/step - loss: 198771040.0000 - val_loss: 245817888.0000\n",
            "Epoch 9/100\n",
            "1/1 [==============================] - 0s 18ms/step - loss: 197164064.0000 - val_loss: 244074208.0000\n",
            "Epoch 10/100\n",
            "1/1 [==============================] - 0s 30ms/step - loss: 195572256.0000 - val_loss: 242350352.0000\n",
            "Epoch 11/100\n",
            "1/1 [==============================] - 0s 18ms/step - loss: 193995488.0000 - val_loss: 240642096.0000\n",
            "Epoch 12/100\n",
            "1/1 [==============================] - 0s 25ms/step - loss: 192433536.0000 - val_loss: 238950176.0000\n",
            "Epoch 13/100\n",
            "1/1 [==============================] - 0s 20ms/step - loss: 190886416.0000 - val_loss: 237274208.0000\n",
            "Epoch 14/100\n",
            "1/1 [==============================] - 0s 23ms/step - loss: 189353840.0000 - val_loss: 235614032.0000\n",
            "Epoch 15/100\n",
            "1/1 [==============================] - 0s 25ms/step - loss: 187835792.0000 - val_loss: 233969616.0000\n",
            "Epoch 16/100\n",
            "1/1 [==============================] - 0s 27ms/step - loss: 186331984.0000 - val_loss: 232340704.0000\n",
            "Epoch 17/100\n",
            "1/1 [==============================] - 0s 28ms/step - loss: 184842384.0000 - val_loss: 230727040.0000\n",
            "Epoch 18/100\n",
            "1/1 [==============================] - 0s 23ms/step - loss: 183366832.0000 - val_loss: 229128784.0000\n",
            "Epoch 19/100\n",
            "1/1 [==============================] - 0s 19ms/step - loss: 181905280.0000 - val_loss: 227545584.0000\n",
            "Epoch 20/100\n",
            "1/1 [==============================] - 0s 19ms/step - loss: 180457424.0000 - val_loss: 225977264.0000\n",
            "Epoch 21/100\n",
            "1/1 [==============================] - 0s 22ms/step - loss: 179023248.0000 - val_loss: 224423824.0000\n",
            "Epoch 22/100\n",
            "1/1 [==============================] - 0s 25ms/step - loss: 177602592.0000 - val_loss: 222884960.0000\n",
            "Epoch 23/100\n",
            "1/1 [==============================] - 0s 23ms/step - loss: 176195360.0000 - val_loss: 221360688.0000\n",
            "Epoch 24/100\n",
            "1/1 [==============================] - 0s 21ms/step - loss: 174801408.0000 - val_loss: 219850800.0000\n",
            "Epoch 25/100\n",
            "1/1 [==============================] - 0s 20ms/step - loss: 173420640.0000 - val_loss: 218355216.0000\n",
            "Epoch 26/100\n",
            "1/1 [==============================] - 0s 31ms/step - loss: 172052784.0000 - val_loss: 216873632.0000\n",
            "Epoch 27/100\n",
            "1/1 [==============================] - 0s 22ms/step - loss: 170697984.0000 - val_loss: 215406112.0000\n",
            "Epoch 28/100\n",
            "1/1 [==============================] - 0s 29ms/step - loss: 169355872.0000 - val_loss: 213952592.0000\n",
            "Epoch 29/100\n",
            "1/1 [==============================] - 0s 21ms/step - loss: 168026464.0000 - val_loss: 212512608.0000\n",
            "Epoch 30/100\n",
            "1/1 [==============================] - 0s 21ms/step - loss: 166709584.0000 - val_loss: 211086320.0000\n",
            "Epoch 31/100\n",
            "1/1 [==============================] - 0s 30ms/step - loss: 165405104.0000 - val_loss: 209673472.0000\n",
            "Epoch 32/100\n",
            "1/1 [==============================] - 0s 20ms/step - loss: 164113008.0000 - val_loss: 208273920.0000\n",
            "Epoch 33/100\n",
            "1/1 [==============================] - 0s 21ms/step - loss: 162832992.0000 - val_loss: 206887600.0000\n",
            "Epoch 34/100\n",
            "1/1 [==============================] - 0s 20ms/step - loss: 161565088.0000 - val_loss: 205514464.0000\n",
            "Epoch 35/100\n",
            "1/1 [==============================] - 0s 21ms/step - loss: 160309200.0000 - val_loss: 204154224.0000\n",
            "Epoch 36/100\n",
            "1/1 [==============================] - 0s 23ms/step - loss: 159065168.0000 - val_loss: 202806704.0000\n",
            "Epoch 37/100\n",
            "1/1 [==============================] - 0s 20ms/step - loss: 157832800.0000 - val_loss: 201472144.0000\n",
            "Epoch 38/100\n",
            "1/1 [==============================] - 0s 20ms/step - loss: 156612096.0000 - val_loss: 200150032.0000\n",
            "Epoch 39/100\n",
            "1/1 [==============================] - 0s 21ms/step - loss: 155402896.0000 - val_loss: 198840464.0000\n",
            "Epoch 40/100\n",
            "1/1 [==============================] - 0s 22ms/step - loss: 154205184.0000 - val_loss: 197543328.0000\n",
            "Epoch 41/100\n",
            "1/1 [==============================] - 0s 25ms/step - loss: 153018656.0000 - val_loss: 196258272.0000\n",
            "Epoch 42/100\n",
            "1/1 [==============================] - 0s 22ms/step - loss: 151843360.0000 - val_loss: 194985488.0000\n",
            "Epoch 43/100\n",
            "1/1 [==============================] - 0s 22ms/step - loss: 150679168.0000 - val_loss: 193724640.0000\n",
            "Epoch 44/100\n",
            "1/1 [==============================] - 0s 26ms/step - loss: 149525920.0000 - val_loss: 192475792.0000\n",
            "Epoch 45/100\n",
            "1/1 [==============================] - 0s 29ms/step - loss: 148383632.0000 - val_loss: 191238656.0000\n",
            "Epoch 46/100\n",
            "1/1 [==============================] - 0s 28ms/step - loss: 147252096.0000 - val_loss: 190013200.0000\n",
            "Epoch 47/100\n",
            "1/1 [==============================] - 0s 20ms/step - loss: 146131200.0000 - val_loss: 188799392.0000\n",
            "Epoch 48/100\n",
            "1/1 [==============================] - 0s 22ms/step - loss: 145020896.0000 - val_loss: 187597024.0000\n",
            "Epoch 49/100\n",
            "1/1 [==============================] - 0s 22ms/step - loss: 143921040.0000 - val_loss: 186405936.0000\n",
            "Epoch 50/100\n",
            "1/1 [==============================] - 0s 21ms/step - loss: 142831600.0000 - val_loss: 185226160.0000\n",
            "Epoch 51/100\n",
            "1/1 [==============================] - 0s 20ms/step - loss: 141752464.0000 - val_loss: 184057504.0000\n",
            "Epoch 52/100\n",
            "1/1 [==============================] - 0s 20ms/step - loss: 140683472.0000 - val_loss: 182899856.0000\n",
            "Epoch 53/100\n",
            "1/1 [==============================] - 0s 19ms/step - loss: 139624528.0000 - val_loss: 181753296.0000\n",
            "Epoch 54/100\n",
            "1/1 [==============================] - 0s 19ms/step - loss: 138575632.0000 - val_loss: 180617424.0000\n",
            "Epoch 55/100\n",
            "1/1 [==============================] - 0s 20ms/step - loss: 137536624.0000 - val_loss: 179492336.0000\n",
            "Epoch 56/100\n",
            "1/1 [==============================] - 0s 20ms/step - loss: 136507408.0000 - val_loss: 178377744.0000\n",
            "Epoch 57/100\n",
            "1/1 [==============================] - 0s 21ms/step - loss: 135487904.0000 - val_loss: 177273856.0000\n",
            "Epoch 58/100\n",
            "1/1 [==============================] - 0s 26ms/step - loss: 134477984.0000 - val_loss: 176180256.0000\n",
            "Epoch 59/100\n",
            "1/1 [==============================] - 0s 20ms/step - loss: 133477656.0000 - val_loss: 175097056.0000\n",
            "Epoch 60/100\n",
            "1/1 [==============================] - 0s 21ms/step - loss: 132486736.0000 - val_loss: 174024112.0000\n",
            "Epoch 61/100\n",
            "1/1 [==============================] - 0s 19ms/step - loss: 131505136.0000 - val_loss: 172961200.0000\n",
            "Epoch 62/100\n",
            "1/1 [==============================] - 0s 24ms/step - loss: 130532864.0000 - val_loss: 171908368.0000\n",
            "Epoch 63/100\n",
            "1/1 [==============================] - 0s 30ms/step - loss: 129569736.0000 - val_loss: 170865552.0000\n",
            "Epoch 64/100\n",
            "1/1 [==============================] - 0s 29ms/step - loss: 128615656.0000 - val_loss: 169832560.0000\n",
            "Epoch 65/100\n",
            "1/1 [==============================] - 0s 22ms/step - loss: 127670616.0000 - val_loss: 168809232.0000\n",
            "Epoch 66/100\n",
            "1/1 [==============================] - 0s 21ms/step - loss: 126734472.0000 - val_loss: 167795680.0000\n",
            "Epoch 67/100\n",
            "1/1 [==============================] - 0s 25ms/step - loss: 125807192.0000 - val_loss: 166791696.0000\n",
            "Epoch 68/100\n",
            "1/1 [==============================] - 0s 29ms/step - loss: 124888656.0000 - val_loss: 165797104.0000\n",
            "Epoch 69/100\n",
            "1/1 [==============================] - 0s 28ms/step - loss: 123978776.0000 - val_loss: 164812032.0000\n",
            "Epoch 70/100\n",
            "1/1 [==============================] - 0s 21ms/step - loss: 123077464.0000 - val_loss: 163836128.0000\n",
            "Epoch 71/100\n",
            "1/1 [==============================] - 0s 22ms/step - loss: 122184664.0000 - val_loss: 162869504.0000\n",
            "Epoch 72/100\n",
            "1/1 [==============================] - 0s 21ms/step - loss: 121300296.0000 - val_loss: 161911920.0000\n",
            "Epoch 73/100\n",
            "1/1 [==============================] - 0s 22ms/step - loss: 120424240.0000 - val_loss: 160963632.0000\n",
            "Epoch 74/100\n",
            "1/1 [==============================] - 0s 20ms/step - loss: 119556528.0000 - val_loss: 160024032.0000\n",
            "Epoch 75/100\n",
            "1/1 [==============================] - 0s 20ms/step - loss: 118696904.0000 - val_loss: 159093392.0000\n",
            "Epoch 76/100\n",
            "1/1 [==============================] - 0s 27ms/step - loss: 117845504.0000 - val_loss: 158171632.0000\n",
            "Epoch 77/100\n",
            "1/1 [==============================] - 0s 29ms/step - loss: 117002008.0000 - val_loss: 157258448.0000\n",
            "Epoch 78/100\n",
            "1/1 [==============================] - 0s 32ms/step - loss: 116166536.0000 - val_loss: 156353920.0000\n",
            "Epoch 79/100\n",
            "1/1 [==============================] - 0s 22ms/step - loss: 115339000.0000 - val_loss: 155458048.0000\n",
            "Epoch 80/100\n",
            "1/1 [==============================] - 0s 23ms/step - loss: 114519184.0000 - val_loss: 154570528.0000\n",
            "Epoch 81/100\n",
            "1/1 [==============================] - 0s 21ms/step - loss: 113707152.0000 - val_loss: 153691440.0000\n",
            "Epoch 82/100\n",
            "1/1 [==============================] - 0s 27ms/step - loss: 112902728.0000 - val_loss: 152820560.0000\n",
            "Epoch 83/100\n",
            "1/1 [==============================] - 0s 22ms/step - loss: 112105928.0000 - val_loss: 151958032.0000\n",
            "Epoch 84/100\n",
            "1/1 [==============================] - 0s 24ms/step - loss: 111316648.0000 - val_loss: 151103568.0000\n",
            "Epoch 85/100\n",
            "1/1 [==============================] - 0s 21ms/step - loss: 110534824.0000 - val_loss: 150257200.0000\n",
            "Epoch 86/100\n",
            "1/1 [==============================] - 0s 27ms/step - loss: 109760376.0000 - val_loss: 149418896.0000\n",
            "Epoch 87/100\n",
            "1/1 [==============================] - 0s 27ms/step - loss: 108993240.0000 - val_loss: 148588400.0000\n",
            "Epoch 88/100\n",
            "1/1 [==============================] - 0s 32ms/step - loss: 108233280.0000 - val_loss: 147765872.0000\n",
            "Epoch 89/100\n",
            "1/1 [==============================] - 0s 24ms/step - loss: 107480584.0000 - val_loss: 146951008.0000\n",
            "Epoch 90/100\n",
            "1/1 [==============================] - 0s 24ms/step - loss: 106734904.0000 - val_loss: 146143824.0000\n",
            "Epoch 91/100\n",
            "1/1 [==============================] - 0s 25ms/step - loss: 105996296.0000 - val_loss: 145344320.0000\n",
            "Epoch 92/100\n",
            "1/1 [==============================] - 0s 25ms/step - loss: 105264680.0000 - val_loss: 144552336.0000\n",
            "Epoch 93/100\n",
            "1/1 [==============================] - 0s 22ms/step - loss: 104539920.0000 - val_loss: 143767808.0000\n",
            "Epoch 94/100\n",
            "1/1 [==============================] - 0s 19ms/step - loss: 103822072.0000 - val_loss: 142990848.0000\n",
            "Epoch 95/100\n",
            "1/1 [==============================] - 0s 21ms/step - loss: 103110928.0000 - val_loss: 142221088.0000\n",
            "Epoch 96/100\n",
            "1/1 [==============================] - 0s 20ms/step - loss: 102406512.0000 - val_loss: 141458576.0000\n",
            "Epoch 97/100\n",
            "1/1 [==============================] - 0s 22ms/step - loss: 101708736.0000 - val_loss: 140703376.0000\n",
            "Epoch 98/100\n",
            "1/1 [==============================] - 0s 24ms/step - loss: 101017576.0000 - val_loss: 139955248.0000\n",
            "Epoch 99/100\n",
            "1/1 [==============================] - 0s 21ms/step - loss: 100332864.0000 - val_loss: 139214192.0000\n",
            "Epoch 100/100\n",
            "1/1 [==============================] - 0s 24ms/step - loss: 99654680.0000 - val_loss: 138480160.0000\n"
          ],
          "name": "stdout"
        },
        {
          "output_type": "execute_result",
          "data": {
            "text/plain": [
              "<tensorflow.python.keras.callbacks.History at 0x7ffaa46ced90>"
            ]
          },
          "metadata": {
            "tags": []
          },
          "execution_count": 15
        }
      ]
    },
    {
      "cell_type": "code",
      "metadata": {
        "colab": {
          "base_uri": "https://localhost:8080/",
          "height": 265
        },
        "id": "BHKeFi6HeoIT",
        "outputId": "da0bc920-23ea-4482-fde9-e8d36258b1b6"
      },
      "source": [
        "y_pred=model.predict(x_val)\n",
        "\n",
        "plt.scatter(x_val,y_val)\n",
        "plt.scatter(x_val,y_pred,color='r')\n",
        "plt.show()"
      ],
      "execution_count": null,
      "outputs": [
        {
          "output_type": "display_data",
          "data": {
            "image/png": "[encoded data removed]",
            "text/plain": [
              "<Figure size 432x288 with 1 Axes>"
            ]
          },
          "metadata": {
            "tags": [],
            "needs_background": "light"
          }
        }
      ]
    }
  ]
}