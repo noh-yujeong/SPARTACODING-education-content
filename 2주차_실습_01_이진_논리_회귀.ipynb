{
  "nbformat": 4,
  "nbformat_minor": 0,
  "metadata": {
    "colab": {
      "name": "2주차 실습-01.이진 논리 회귀.ipynb",
      "provenance": [],
      "collapsed_sections": [],
      "authorship_tag": "ABX9TyNIZxlp4w7NFVNfQ1p5XY/8",
      "include_colab_link": true
    },
    "kernelspec": {
      "name": "python3",
      "display_name": "Python 3"
    },
    "language_info": {
      "name": "python"
    }
  },
  "cells": [
    {
      "cell_type": "markdown",
      "metadata": {
        "id": "view-in-github",
        "colab_type": "text"
      },
      "source": [
        "<a href=\"https://colab.research.google.com/github/noh-yujeong/SPARTACODING-education-content/blob/main/2%EC%A3%BC%EC%B0%A8_%EC%8B%A4%EC%8A%B5_01_%EC%9D%B4%EC%A7%84_%EB%85%BC%EB%A6%AC_%ED%9A%8C%EA%B7%80.ipynb\" target=\"_parent\"><img src=\"https://colab.research.google.com/assets/colab-badge.svg\" alt=\"Open In Colab\"/></a>"
      ]
    },
    {
      "cell_type": "code",
      "metadata": {
        "id": "0cW1_SW_qAXH"
      },
      "source": [
        "import os\n",
        "\n",
        "os.environ['KAGGLE_USERNAME']='yujeongnoh'\n",
        "os.environ['KAGGLE_KEY']='4daa67ac7c0888daf6fa77bbb559ae45'"
      ],
      "execution_count": null,
      "outputs": []
    },
    {
      "cell_type": "code",
      "metadata": {
        "colab": {
          "base_uri": "https://localhost:8080/"
        },
        "id": "Fv_WI8XwK8MQ",
        "outputId": "a84ecef3-bdf5-4baa-dddd-05beadaf743d"
      },
      "source": [
        "!kaggle datasets download -d heptapod/titanic"
      ],
      "execution_count": null,
      "outputs": [
        {
          "output_type": "stream",
          "text": [
            "Downloading titanic.zip to /content\n",
            "\r  0% 0.00/10.8k [00:00<?, ?B/s]\n",
            "\r100% 10.8k/10.8k [00:00<00:00, 9.54MB/s]\n"
          ],
          "name": "stdout"
        }
      ]
    },
    {
      "cell_type": "code",
      "metadata": {
        "colab": {
          "base_uri": "https://localhost:8080/"
        },
        "id": "qmZhAtIyLzZS",
        "outputId": "3a074045-62e6-4118-e0fa-11ef488271db"
      },
      "source": [
        "!unzip titanic.zip"
      ],
      "execution_count": null,
      "outputs": [
        {
          "output_type": "stream",
          "text": [
            "Archive:  titanic.zip\n",
            "  inflating: train_and_test2.csv     \n"
          ],
          "name": "stdout"
        }
      ]
    },
    {
      "cell_type": "code",
      "metadata": {
        "id": "JK5v5sQiMSKO"
      },
      "source": [
        "#2.필요한 package import하기\n",
        "\n",
        "from tensorflow.keras.models import Sequential\n",
        "from tensorflow.keras.layers import Dense\n",
        "from tensorflow.keras.optimizers import Adam, SGD\n",
        "import numpy as np\n",
        "import pandas as pd\n",
        "import matplotlib.pyplot as plt\n",
        "import seaborn as sns\n",
        "from sklearn.model_selection import train_test_split\n",
        "from sklearn.preprocessing import StandardScaler"
      ],
      "execution_count": null,
      "outputs": []
    },
    {
      "cell_type": "code",
      "metadata": {
        "id": "oZFKmGe1NWhB"
      },
      "source": [
        "#3. 데이터 로딩하기\n",
        "\n",
        "df=pd.read_csv('train_and_test2.csv')\n"
      ],
      "execution_count": null,
      "outputs": []
    },
    {
      "cell_type": "code",
      "metadata": {
        "id": "7df6NoedNeun"
      },
      "source": [
        "#4. 전처리하기\n",
        "#4-1. 사용할 column 추출하기\n",
        "\n",
        "df=pd.read_csv('train_and_test2.csv',usecols=['Age',#나이\n",
        "                                              'Fare',#승차요금\n",
        "                                              'Sex',#성별\n",
        "                                              'sibsp',#타이타닉에 탑승한 형제자매, 배우자의 수\n",
        "                                              'Parch',#타이타닉에 탑승한 부모, 자식의 수\n",
        "                                              'Pclass',#티켓 등급(1,2,3등석)\n",
        "                                              'Embarked',#탑승국\n",
        "                                              '2urvived'#생존 여부(0:사망,1:생존)\n",
        "])\n"
      ],
      "execution_count": null,
      "outputs": []
    },
    {
      "cell_type": "code",
      "metadata": {
        "id": "cisJJVFTSQpH"
      },
      "source": [
        "#4-2. 비어있는 행 없애기\n",
        "\n",
        "df=df.dropna()"
      ],
      "execution_count": null,
      "outputs": []
    },
    {
      "cell_type": "code",
      "metadata": {
        "id": "9ZvNeEygSslS"
      },
      "source": [
        "#4-3. X,Y 데이터 분할\n",
        "\n",
        "x_data=df.drop(columns=['2urvived'],axis=1)\n",
        "y_data=x_data.astype(np.float32)\n",
        "\n",
        "y_data=df[['2urvived']]\n",
        "y_data=y_data.astype(np.float32)\n"
      ],
      "execution_count": null,
      "outputs": []
    },
    {
      "cell_type": "code",
      "metadata": {
        "id": "ccpbQIlwWnI_"
      },
      "source": [
        "#4-4. 표준화하기\n",
        "\n",
        "scaler=StandardScaler()\n",
        "x_data_scaled=scaler.fit_transform(x_data)\n"
      ],
      "execution_count": null,
      "outputs": []
    },
    {
      "cell_type": "code",
      "metadata": {
        "id": "Qxop7vBMXHjF"
      },
      "source": [
        "#4-5. 학습/검증 데이터 분할\n",
        "x_train, x_val,y_train, y_val=train_test_split(x_data,y_data,test_size=0.2,random_state=2021)\n"
      ],
      "execution_count": null,
      "outputs": []
    },
    {
      "cell_type": "code",
      "metadata": {
        "colab": {
          "base_uri": "https://localhost:8080/"
        },
        "id": "NxTTt54PZGw0",
        "outputId": "26d92f76-f819-43b0-aa0d-6dd14421070c"
      },
      "source": [
        "#5. 모델 학습시키기\n",
        "\n",
        "model=Sequential([\n",
        "                  Dense(1,activation='sigmoid')\n",
        "])\n",
        "\n",
        "model.compile(loss='binary_crossentropy',optimizer=Adam(lr=0.01),metrics=['acc'])\n",
        "\n",
        "model.fit(\n",
        "    x_train,\n",
        "    y_train,\n",
        "    validation_data=(x_val,y_val),#검증 데이터를 넣어주면 한 epoch이 끝날때마다 자동으로 검증\n",
        "    epochs=20 #epochs 복수형으로 쓰기!\n",
        ")\n"
      ],
      "execution_count": null,
      "outputs": [
        {
          "output_type": "stream",
          "text": [
            "/usr/local/lib/python3.7/dist-packages/tensorflow/python/keras/optimizer_v2/optimizer_v2.py:375: UserWarning: The `lr` argument is deprecated, use `learning_rate` instead.\n",
            "  \"The `lr` argument is deprecated, use `learning_rate` instead.\")\n"
          ],
          "name": "stderr"
        },
        {
          "output_type": "stream",
          "text": [
            "Epoch 1/20\n",
            "33/33 [==============================] - 1s 7ms/step - loss: 4.2000 - acc: 0.7158 - val_loss: 2.8338 - val_acc: 0.7519\n",
            "Epoch 2/20\n",
            "33/33 [==============================] - 0s 2ms/step - loss: 2.4291 - acc: 0.7091 - val_loss: 1.4077 - val_acc: 0.7557\n",
            "Epoch 3/20\n",
            "33/33 [==============================] - 0s 2ms/step - loss: 1.0314 - acc: 0.6641 - val_loss: 0.7591 - val_acc: 0.6794\n",
            "Epoch 4/20\n",
            "33/33 [==============================] - 0s 2ms/step - loss: 0.7195 - acc: 0.6919 - val_loss: 0.6116 - val_acc: 0.7290\n",
            "Epoch 5/20\n",
            "33/33 [==============================] - 0s 2ms/step - loss: 0.6063 - acc: 0.7321 - val_loss: 0.5641 - val_acc: 0.7595\n",
            "Epoch 6/20\n",
            "33/33 [==============================] - 0s 2ms/step - loss: 0.5638 - acc: 0.7349 - val_loss: 0.5519 - val_acc: 0.7863\n",
            "Epoch 7/20\n",
            "33/33 [==============================] - 0s 2ms/step - loss: 0.5384 - acc: 0.7426 - val_loss: 0.4739 - val_acc: 0.7901\n",
            "Epoch 8/20\n",
            "33/33 [==============================] - 0s 2ms/step - loss: 0.5123 - acc: 0.7464 - val_loss: 0.4948 - val_acc: 0.7824\n",
            "Epoch 9/20\n",
            "33/33 [==============================] - 0s 2ms/step - loss: 0.5140 - acc: 0.7522 - val_loss: 0.4776 - val_acc: 0.7901\n",
            "Epoch 10/20\n",
            "33/33 [==============================] - 0s 2ms/step - loss: 0.5077 - acc: 0.7627 - val_loss: 0.4605 - val_acc: 0.7977\n",
            "Epoch 11/20\n",
            "33/33 [==============================] - 0s 2ms/step - loss: 0.5071 - acc: 0.7617 - val_loss: 0.4413 - val_acc: 0.7901\n",
            "Epoch 12/20\n",
            "33/33 [==============================] - 0s 2ms/step - loss: 0.5002 - acc: 0.7550 - val_loss: 0.4708 - val_acc: 0.7748\n",
            "Epoch 13/20\n",
            "33/33 [==============================] - 0s 2ms/step - loss: 0.4881 - acc: 0.7742 - val_loss: 0.4396 - val_acc: 0.7901\n",
            "Epoch 14/20\n",
            "33/33 [==============================] - 0s 2ms/step - loss: 0.4866 - acc: 0.7627 - val_loss: 0.4526 - val_acc: 0.7786\n",
            "Epoch 15/20\n",
            "33/33 [==============================] - 0s 2ms/step - loss: 0.4795 - acc: 0.7770 - val_loss: 0.4474 - val_acc: 0.7786\n",
            "Epoch 16/20\n",
            "33/33 [==============================] - 0s 2ms/step - loss: 0.4934 - acc: 0.7617 - val_loss: 0.4616 - val_acc: 0.7901\n",
            "Epoch 17/20\n",
            "33/33 [==============================] - 0s 2ms/step - loss: 0.4942 - acc: 0.7684 - val_loss: 0.4266 - val_acc: 0.7939\n",
            "Epoch 18/20\n",
            "33/33 [==============================] - 0s 2ms/step - loss: 0.4915 - acc: 0.7703 - val_loss: 0.4300 - val_acc: 0.7977\n",
            "Epoch 19/20\n",
            "33/33 [==============================] - 0s 2ms/step - loss: 0.4855 - acc: 0.7799 - val_loss: 0.4436 - val_acc: 0.7824\n",
            "Epoch 20/20\n",
            "33/33 [==============================] - 0s 2ms/step - loss: 0.4900 - acc: 0.7799 - val_loss: 0.4403 - val_acc: 0.7939\n"
          ],
          "name": "stdout"
        },
        {
          "output_type": "execute_result",
          "data": {
            "text/plain": [
              "<tensorflow.python.keras.callbacks.History at 0x7f95c8e9e690>"
            ]
          },
          "metadata": {
            "tags": []
          },
          "execution_count": 13
        }
      ]
    },
    {
      "cell_type": "code",
      "metadata": {
        "id": "dg4CbFNlZG17"
      },
      "source": [
        ""
      ],
      "execution_count": null,
      "outputs": []
    }
  ]
}